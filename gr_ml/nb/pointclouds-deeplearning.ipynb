{
 "cells": [
  {
   "cell_type": "markdown",
   "metadata": {},
   "source": [
    "Model From https://github.com/fxia22/pointnet.pytorch/blob/master/pointnet/model.py"
   ]
  },
  {
   "cell_type": "code",
   "execution_count": 1,
   "metadata": {},
   "outputs": [],
   "source": [
    "import torch\n",
    "import torch.nn as nn\n",
    "import torch.nn.parallel\n",
    "import torch.utils.data\n",
    "from torch.autograd import Variable\n",
    "import numpy as np\n",
    "import torch.nn.functional as F"
   ]
  },
  {
   "cell_type": "code",
   "execution_count": 2,
   "metadata": {},
   "outputs": [
    {
     "name": "stdout",
     "output_type": "stream",
     "text": [
      "torch.Size([32, 3, 500])\n"
     ]
    }
   ],
   "source": [
    "#batch, dim, npoints\n",
    "sim_data = Variable(torch.rand(32,3,500))\n",
    "print(sim_data.shape)\n"
   ]
  },
  {
   "cell_type": "code",
   "execution_count": 3,
   "metadata": {},
   "outputs": [
    {
     "name": "stdout",
     "output_type": "stream",
     "text": [
      "(8, 8, 3)\n"
     ]
    },
    {
     "data": {
      "text/plain": [
       "<Figure size 640x480 with 1 Axes>"
      ]
     },
     "metadata": {},
     "output_type": "display_data"
    }
   ],
   "source": [
    "import matplotlib.pyplot as plt\n",
    "import numpy as np\n",
    "from mpl_toolkits.mplot3d import Axes3D  # noqa: F401 unused import\n",
    "\n",
    "\n",
    "# prepare some coordinates\n",
    "x, y, z = np.indices((8, 8, 3))\n",
    "\n",
    "# draw cuboids in the top left and bottom right corners, and a link between them\n",
    "cube1 = (x < 1) & (y < 1) & (z < 1)\n",
    "cube2 = (x >= 2) & (y >= 2) & (z >= 2)\n",
    "link = abs(x - y) + abs(y - z) + abs(z - x) <= 2\n",
    "\n",
    "# combine the objects into a single boolean array\n",
    "voxels = cube1 | cube2 | link\n",
    "\n",
    "# set the colors of each object\n",
    "colors = np.empty(voxels.shape, dtype=object)\n",
    "colors[link] = 'red'\n",
    "colors[cube1] = 'blue'\n",
    "colors[cube2] = 'green'\n",
    "print(colors.shape)\n",
    "\n",
    "# and plot everything\n",
    "fig = plt.figure()\n",
    "ax = fig.gca(projection='3d')\n",
    "ax.voxels(voxels, facecolors=colors, edgecolor='k')\n",
    "\n",
    "plt.show()"
   ]
  },
  {
   "cell_type": "markdown",
   "metadata": {},
   "source": [
    "https://github.com/meder411/PointNet-PyTorch/blob/master/models/transformer.py"
   ]
  },
  {
   "cell_type": "code",
   "execution_count": 50,
   "metadata": {},
   "outputs": [],
   "source": [
    "import torch\n",
    "import torch.nn as nn\n",
    "import torch.nn.functional as F\n",
    "import torch.autograd as grad\n",
    "\n",
    "\n",
    "\n",
    "##-----------------------------------------------------------------------------\n",
    "# Class for Transformer. Subclasses PyTorch's own \"nn\" module\n",
    "#\n",
    "# Computes a KxK affine transform from the input data to transform inputs\n",
    "# to a \"canonical view\"\n",
    "##\n",
    "class Transformer(nn.Module):\n",
    "    def __init__(self, num_points=2000, K=3):\n",
    "        # Call the super constructor\n",
    "        print (num_points, K)\n",
    "        super(Transformer, self).__init__()\n",
    "\n",
    "        # Number of dimensions of the data\n",
    "        self.K = K\n",
    "\n",
    "        # Size of input\n",
    "        self.N = num_points\n",
    "        if num_points < 201:\n",
    "            print (\"this will fail too small resize to minimum of 201\")\n",
    "            self.N = 201\n",
    "\n",
    "        # Initialize identity matrix on the GPU (do this here so it only \n",
    "        # happens once)\n",
    "        self.identity = grad.Variable(\n",
    "            torch.eye(self.K).double().view(-1).cuda())\n",
    "\n",
    "        # First embedding block\n",
    "        self.block1 =nn.Sequential(\n",
    "            nn.Conv1d(K, 64, 1),\n",
    "            nn.BatchNorm1d(64),\n",
    "            nn.ReLU())\n",
    "\n",
    "        # Second embedding block\n",
    "        self.block2 =nn.Sequential(\n",
    "            nn.Conv1d(64, 128, 1),\n",
    "            nn.BatchNorm1d(128),\n",
    "            nn.ReLU())\n",
    "\n",
    "        # Third embedding block\n",
    "        self.block3 =nn.Sequential(\n",
    "            nn.Conv1d(128, 64, 1),\n",
    "            nn.BatchNorm1d(64),\n",
    "            nn.ReLU())\n",
    "\n",
    "        # Multilayer perceptron\n",
    "        self.mlp = nn.Sequential(\n",
    "            nn.Linear(64, 512),\n",
    "            nn.BatchNorm1d(512),\n",
    "            nn.ReLU(),\n",
    "            nn.Linear(512, 256),\n",
    "            nn.BatchNorm1d(256),\n",
    "            nn.ReLU(),\n",
    "            nn.Linear(256, K * K))\n",
    "\n",
    "\n",
    "    # Take as input a B x K x N matrix of B batches of N points with K \n",
    "    # dimensions\n",
    "    def forward(self, x):\n",
    "\n",
    "        # Compute the feature extractions\n",
    "        # Output should ultimately be B x 1024 x N\n",
    "        x = self.block1(x)\n",
    "        x = self.block2(x)\n",
    "        x = self.block3(x)\n",
    "        # Pool over the number of points\n",
    "        # Output should be B x 1024 x 1 --> B x 1024 (after squeeze)\n",
    "        x = F.max_pool1d(x, self.N).squeeze(2)\n",
    "        # Run the pooled features through the multi-layer perceptron\n",
    "        # Output should be B x K^2\n",
    "        x = self.mlp(x)\n",
    "\n",
    "        # Add identity matrix to transform\n",
    "        # Output is still B x K^2 (broadcasting takes care of batch dimension)\n",
    "        x += self.identity\n",
    "\n",
    "        # Reshape the output into B x K x K affine transformation matrices\n",
    "        x = x.view(-1, self.K, self.K)\n",
    "\n",
    "        return x\n"
   ]
  },
  {
   "cell_type": "code",
   "execution_count": 51,
   "metadata": {},
   "outputs": [
    {
     "name": "stdout",
     "output_type": "stream",
     "text": [
      "201 3\n"
     ]
    },
    {
     "data": {
      "text/plain": [
       "torch.Size([32, 3, 3])"
      ]
     },
     "execution_count": 51,
     "metadata": {},
     "output_type": "execute_result"
    }
   ],
   "source": [
    "sim_data = Variable(torch.rand(32,3,400)).cuda()\n",
    "sim_data2 = Variable(torch.rand(32,3,350)).cuda()\n",
    "t = Transformer(num_points=201, K=3).cuda()\n",
    "t(sim_data2).shape"
   ]
  },
  {
   "cell_type": "code",
   "execution_count": 6,
   "metadata": {},
   "outputs": [],
   "source": [
    "#t(sim_data2).shape"
   ]
  },
  {
   "cell_type": "code",
   "execution_count": 7,
   "metadata": {},
   "outputs": [],
   "source": [
    "#sim_data = Variable(torch.rand(32,3,4000)).cuda()\n",
    "#t = Transformer(num_points=2500, K=3).cuda()\n",
    "#t(sim_data).shape"
   ]
  },
  {
   "cell_type": "markdown",
   "metadata": {},
   "source": [
    "### Source https://discuss.pytorch.org/t/which-part-of-pytorch-tensor-represents-channels/21778\n",
    "The first number represents the Batchsize (N) and for tensors holding data of a dimension of 1 or above the next dimension is usually referred to as channel-dimension. The following dimensions are commonly height, width and depth.\n",
    "So for 2d data (images) you have a 4d tensor of NxCxHxW which you feed into a 2d conv layer.\n",
    "\n",
    "Note that channels only exist for convolutional layers. Linear layers for example need a shape of N x #num_features"
   ]
  },
  {
   "cell_type": "code",
   "execution_count": 52,
   "metadata": {},
   "outputs": [],
   "source": [
    "#TODO\n",
    "import random\n",
    "class MyDataset(torch.utils.data.Dataset):\n",
    "    def __init__(self, path=\"\", pointsnumber=1000):\n",
    "        #how many pointclouds\n",
    "        self.nsamples = pointsnumber\n",
    "        self.random = random\n",
    "        self.pointsnumber = pointsnumber\n",
    "\n",
    "    def __getitem__(self,index):\n",
    "        x = np.zeros((3, self.nsamples), dtype=np.double)\n",
    "        y = 1\n",
    "        return (x,1)\n",
    "    \n",
    "    def __len__(self):\n",
    "        return self.nsamples"
   ]
  },
  {
   "cell_type": "code",
   "execution_count": 53,
   "metadata": {},
   "outputs": [],
   "source": [
    "class WrappedDataLoader:\n",
    "    def __init__(self, dl,nsamples):\n",
    "        self.dl = dl\n",
    "        self.func = self.tocuda\n",
    "        self.batchsize = len(self.dl)\n",
    "        self.nsamples = nsamples\n",
    "    \n",
    "    def tocuda(self,x,y):\n",
    "        return x.cuda(), y.cuda()\n",
    "\n",
    "    def __len__(self):\n",
    "        return len(self.dl)\n",
    "\n",
    "    def __iter__(self):\n",
    "        batches = iter(self.dl)\n",
    "        for b in batches:\n",
    "            yield (self.func(*b))"
   ]
  },
  {
   "cell_type": "code",
   "execution_count": 54,
   "metadata": {},
   "outputs": [],
   "source": [
    "#OR train_ds = TensorDataset(x_train, y_train)\n",
    "\n",
    "def get_data(train_ds, valid_ds, bs, nsamples):\n",
    "    return (\n",
    "        WrappedDataLoader(DataLoader(train_ds, batch_size=bs), nsamples),\n",
    "        WrappedDataLoader(DataLoader(valid_ds, batch_size=bs), nsamples),\n",
    "    )\n",
    "\n",
    "#gen = DataLoader(TensorDataset(data, labels), batch_size=25, shuffle=True)\n"
   ]
  },
  {
   "cell_type": "code",
   "execution_count": 55,
   "metadata": {},
   "outputs": [],
   "source": [
    "pointsnumber = 1500\n",
    "batchsize = 10"
   ]
  },
  {
   "cell_type": "code",
   "execution_count": 56,
   "metadata": {},
   "outputs": [],
   "source": [
    "from torch.utils.data import DataLoader, TensorDataset\n",
    "itdataset = MyDataset(pointsnumber=pointsnumber)\n",
    "traingen, valgen = get_data(itdataset,itdataset,bs=batchsize, nsamples=itdataset.nsamples)"
   ]
  },
  {
   "cell_type": "code",
   "execution_count": 57,
   "metadata": {},
   "outputs": [],
   "source": [
    "class MyModel(torch.nn.Module):\n",
    "    def __init__(self, n_points=500):\n",
    "        super(MyModel, self).__init__()\n",
    "        self.n_points = n_points\n",
    "        self.transformer = Transformer(150)\n",
    "        self.conv1 = torch.nn.Conv1d(3, 32, 1)\n",
    "        self.conv2 = torch.nn.Conv1d(32, 16, 1)\n",
    "        self.conv3 = torch.nn.Conv1d(16, 1, 1)\n",
    "        self.lin1 = torch.nn.Linear(30, 1)\n",
    "        self.bn1 = nn.BatchNorm1d(32)\n",
    "        self.bn2 = nn.BatchNorm1d(16)\n",
    "        self.criterion = nn.MSELoss()\n",
    "        self.optimizer = torch.optim.SGD(self.parameters(), lr=0.01, momentum=0.2)\n",
    "        self.batch_loss = list()\n",
    "\n",
    "    def forward(self, x):\n",
    "        batchsize = x.size()[0]\n",
    "        #remove\n",
    "        x = x[:,:,:random.randint(202,250)]\n",
    "        \n",
    "        x = self.transformer(x)\n",
    "        \n",
    "        x = F.relu(self.bn1(self.conv1(x)))\n",
    "        x = F.relu(self.bn2(self.conv2(x)))\n",
    "        x = F.relu(self.conv3(x))\n",
    "        #x = torch.max(x, 2, keepdim=True)\n",
    "        #x = x.view(batchsize,-1)\n",
    "        x = x.flatten()\n",
    "        x = F.relu(self.lin1(x))\n",
    "        #print(x.item(), \"TEST\")\n",
    "        return x\n",
    "\n",
    "    def trainbatch(self,x,targets,batchid):\n",
    "        self.optimizer.zero_grad()\n",
    "        output = self.__call__(x)\n",
    "        \n",
    "        loss = self.criterion(output,targets)\n",
    "        loss.backward()\n",
    "        self.optimizer.step()\n",
    "\n",
    "        self.epoch_loss += loss.item()\n",
    "        self.batch_loss.append(loss.item())\n",
    "\n",
    "        #print(\"Batch {} - batch loss: {}\".format(batchid, loss.item()))\n",
    "\n",
    "    def mytrain(self,traindata,valdata,nepochs=5,valsamples=10, device=\"cuda\"):\n",
    "        epoch_loss = list()\n",
    "        #self.batch_loss = list()\n",
    "        self.train()\n",
    "\n",
    "        for epoch in range(nepochs):\n",
    "\n",
    "            self.epoch_loss = 0.0\n",
    "\n",
    "            #batches number\n",
    "            for b,x in enumerate(traindata):\n",
    "                self.trainbatch(x[0].float(),x[1].float(),b)\n",
    "\n",
    "            self.epoch_loss /= traindata.nsamples\n",
    "            \n",
    "            print(\"Epoch {} - epoch loss: {}\".format(epoch, self.epoch_loss), end=\" \")\n",
    "            epoch_loss.append(self.epoch_loss)\n",
    "\n",
    "            #validation\n",
    "            self.eval()\n",
    "            with torch.no_grad():\n",
    "                valid_loss = sum(self.criterion(self.__call__(xb.float()), yb.float()) for xb, yb in valdata)\n",
    "            print(\" validation loss {}\".format(valid_loss/valdata.nsamples), sep=\"..\")\n",
    "        return epoch_loss\n",
    "\n",
    "    def predict(self,x):\n",
    "        with torch.no_grad():\n",
    "            return self.__call__(x)"
   ]
  },
  {
   "cell_type": "markdown",
   "metadata": {},
   "source": [
    "# Note from pytorch tutorial for validation\n",
    "\n",
    "def loss_batch(model, loss_func, xb, yb, opt=None):\n",
    "    loss = loss_func(model(xb), yb)\n",
    "\n",
    "    if opt is not None:\n",
    "        loss.backward()\n",
    "        opt.step()\n",
    "        opt.zero_grad()\n",
    "\n",
    "    return loss.item(), len(xb)\n",
    "\n",
    "...\n",
    "\n",
    "model.eval()\n",
    "\n",
    "with torch.no_grad():\n",
    "\n",
    "    losses, nums = zip(\n",
    "                *[loss_batch(model, loss_func, xb, yb) for xb, yb in valid_dl]\n",
    "    )\n",
    "    val_loss = np.sum(np.multiply(losses, nums)) / np.sum(nums"
   ]
  },
  {
   "cell_type": "code",
   "execution_count": 58,
   "metadata": {},
   "outputs": [
    {
     "name": "stdout",
     "output_type": "stream",
     "text": [
      "150 3\n",
      "this will fail too small resize to minimum of 201\n"
     ]
    }
   ],
   "source": [
    "mymodel = MyModel(n_points=pointsnumber)"
   ]
  },
  {
   "cell_type": "code",
   "execution_count": 59,
   "metadata": {},
   "outputs": [
    {
     "name": "stdout",
     "output_type": "stream",
     "text": [
      "Epoch 0 - epoch loss: 0.0009111337745876397  validation loss 872937226240.0\n",
      "Epoch 1 - epoch loss: 5819572333.326  validation loss 0.10000000149011612\n",
      "Epoch 2 - epoch loss: 0.1  validation loss 0.10000000149011612\n",
      "Epoch 3 - epoch loss: 0.1  validation loss 0.10000000149011612\n",
      "Epoch 4 - epoch loss: 0.1  validation loss 0.10000000149011612\n",
      "Epoch 5 - epoch loss: 0.1  validation loss 0.10000000149011612\n",
      "Epoch 6 - epoch loss: 0.1  validation loss 0.10000000149011612\n",
      "Epoch 7 - epoch loss: 0.1  validation loss 0.10000000149011612\n",
      "Epoch 8 - epoch loss: 0.1  validation loss 0.10000000149011612\n",
      "Epoch 9 - epoch loss: 0.1  validation loss 0.10000000149011612\n",
      "Epoch 10 - epoch loss: 0.1  validation loss 0.10000000149011612\n",
      "Epoch 11 - epoch loss: 0.1  validation loss 0.10000000149011612\n",
      "Epoch 12 - epoch loss: 0.1  validation loss 0.10000000149011612\n",
      "Epoch 13 - epoch loss: 0.1  validation loss 0.10000000149011612\n",
      "Epoch 14 - epoch loss: 0.1  validation loss 0.10000000149011612\n",
      "Epoch 15 - epoch loss: 0.1  validation loss 0.10000000149011612\n",
      "Epoch 16 - epoch loss: 0.1  validation loss 0.10000000149011612\n",
      "Epoch 17 - epoch loss: 0.1  validation loss 0.10000000149011612\n",
      "Epoch 18 - epoch loss: 0.1  validation loss 0.10000000149011612\n",
      "Epoch 19 - epoch loss: 0.1  validation loss 0.10000000149011612\n",
      "Epoch 20 - epoch loss: 0.1  validation loss 0.10000000149011612\n",
      "Epoch 21 - epoch loss: 0.1  validation loss 0.10000000149011612\n",
      "Epoch 22 - epoch loss: 0.1  validation loss 0.10000000149011612\n",
      "Epoch 23 - epoch loss: 0.1  validation loss 0.10000000149011612\n",
      "Epoch 24 - epoch loss: 0.1  validation loss 0.10000000149011612\n"
     ]
    }
   ],
   "source": [
    "device = torch.device(\"cpu\")\n",
    "if torch.cuda.is_available():\n",
    "    #sim_data = Variable(torch.rand(2,3,1))\n",
    "    device = torch.device(\"cuda\")          # a CUDA device object\n",
    "    #y = torch.ones_like(sim_data, device=device)  # directly create a tensor on GPU\n",
    "    #x = sim_data.to(device)                       # or just use strings ``.to(\"cuda\")``\n",
    "    #print(x)\n",
    "    #print(x.to(\"cpu\", torch.double))       # ``.to`` can also change dtype together!\n",
    "    mymodel.cuda()\n",
    "#print(device)\n",
    "losses = mymodel.mytrain(traingen, valgen,nepochs=25)"
   ]
  },
  {
   "cell_type": "code",
   "execution_count": null,
   "metadata": {},
   "outputs": [],
   "source": [
    "#print(torch.randint(0,10,(10,1)))"
   ]
  },
  {
   "cell_type": "code",
   "execution_count": 61,
   "metadata": {},
   "outputs": [
    {
     "data": {
      "text/plain": [
       "'\\nparams = list(mymodel.parameters())\\nprint(len(params))\\nprint(params[0].size())\\nacc = np.sum([i.sum().cpu().detach().numpy() for i in params])\\nprint([i.sum().cpu().detach().numpy() for i in params])\\nprint(acc)\\n'"
      ]
     },
     "execution_count": 61,
     "metadata": {},
     "output_type": "execute_result"
    }
   ],
   "source": [
    "import numpy as np\n",
    "\"\"\"\n",
    "params = list(mymodel.parameters())\n",
    "print(len(params))\n",
    "print(params[0].size())\n",
    "acc = np.sum([i.sum().cpu().detach().numpy() for i in params])\n",
    "print([i.sum().cpu().detach().numpy() for i in params])\n",
    "print(acc)\n",
    "\"\"\""
   ]
  },
  {
   "cell_type": "code",
   "execution_count": 62,
   "metadata": {},
   "outputs": [
    {
     "data": {
      "text/plain": [
       "[<matplotlib.lines.Line2D at 0x7f43f0298b00>]"
      ]
     },
     "execution_count": 62,
     "metadata": {},
     "output_type": "execute_result"
    },
    {
     "data": {
      "image/png": "[encoded data removed]",
      "text/plain": [
       "<Figure size 432x288 with 1 Axes>"
      ]
     },
     "metadata": {
      "needs_background": "light"
     },
     "output_type": "display_data"
    }
   ],
   "source": [
    "plt.plot(np.arange(len(losses)), losses)"
   ]
  },
  {
   "cell_type": "code",
   "execution_count": 63,
   "metadata": {},
   "outputs": [
    {
     "data": {
      "text/plain": [
       "[<matplotlib.lines.Line2D at 0x7f43f02180b8>]"
      ]
     },
     "execution_count": 63,
     "metadata": {},
     "output_type": "execute_result"
    },
    {
     "data": {
      "image/png": "[encoded data removed]",
      "text/plain": [
       "<Figure size 432x288 with 1 Axes>"
      ]
     },
     "metadata": {
      "needs_background": "light"
     },
     "output_type": "display_data"
    }
   ],
   "source": [
    "plt.plot(np.arange(len(mymodel.batch_loss)), mymodel.batch_loss)"
   ]
  },
  {
   "cell_type": "code",
   "execution_count": 64,
   "metadata": {},
   "outputs": [
    {
     "data": {
      "text/plain": [
       "MSELoss()"
      ]
     },
     "execution_count": 64,
     "metadata": {},
     "output_type": "execute_result"
    }
   ],
   "source": [
    "mymodel.criterion"
   ]
  },
  {
   "cell_type": "code",
   "execution_count": 70,
   "metadata": {},
   "outputs": [
    {
     "name": "stdout",
     "output_type": "stream",
     "text": [
      "cuda\n",
      "MSE 2.7555952072143555\n"
     ]
    }
   ],
   "source": [
    "print(device)\n",
    "x = Variable(torch.rand(batchsize,3,mymodel.n_points)).to(device)\n",
    "targets = torch.rand((batchsize,1)).to(device)\n",
    "y_pred = mymodel.predict(x)\n",
    "print(\"MSE {}\".format(((targets - y_pred)**2).sum()))"
   ]
  },
  {
   "cell_type": "markdown",
   "metadata": {},
   "source": [
    "# TESTING TENSORBOARD"
   ]
  },
  {
   "cell_type": "code",
   "execution_count": null,
   "metadata": {},
   "outputs": [],
   "source": [
    "from torch.utils.tensorboard import SummaryWriter\n",
    "\n",
    "# default `log_dir` is \"runs\" - we'll be more specific here\n",
    "writer = SummaryWriter('scalar/testingtensorboard')"
   ]
  },
  {
   "cell_type": "code",
   "execution_count": null,
   "metadata": {},
   "outputs": [],
   "source": [
    "for step in range(-360, 360):\n",
    "    angle_rad = step * math.pi / 180\n",
    "    writer.add_scalar('sin', math.sin(angle_rad)*step, step)\n",
    "    writer.add_scalar('cos', math.cos(angle_rad)*step, step)\n",
    "    writer.add_scalars('sin and cos', {'sin': math.sin(angle_rad), 'cos': math.cos(angle_rad)}, step)"
   ]
  },
  {
   "cell_type": "code",
   "execution_count": null,
   "metadata": {},
   "outputs": [],
   "source": [
    "dataiter = iter(traingen)\n",
    "databatch, labels = next(dataiter)\n",
    "writer.add_graph(mymodel, databatch.float())\n"
   ]
  },
  {
   "cell_type": "code",
   "execution_count": null,
   "metadata": {},
   "outputs": [],
   "source": [
    "for n_iter in range(100):\n",
    "    writer.add_scalar('Loss/train', np.random.random(), n_iter)\n",
    "    writer.add_scalar('Loss/test', np.random.random(), n_iter)\n",
    "    writer.add_scalar('Accuracy/train', np.random.random(), n_iter)\n",
    "    writer.add_scalar('Accuracy/test', np.random.random(), n_iter)"
   ]
  },
  {
   "cell_type": "code",
   "execution_count": null,
   "metadata": {},
   "outputs": [],
   "source": [
    "r = 5\n",
    "for i in range(100):\n",
    "    writer.add_scalars('run_14h', {'xsinx':i*np.sin(i/r),\n",
    "                                    'xcosx':i*np.cos(i/r),\n",
    "                                    'tanx': np.tan(i/r)}, i)"
   ]
  },
  {
   "cell_type": "code",
   "execution_count": null,
   "metadata": {},
   "outputs": [],
   "source": [
    "sigma = 1\n",
    "for step in range(5):\n",
    "    writer.add_histogram('hist-numpy', np.random.normal(0, sigma, 1000), step)\n",
    "    sigma += 1\n",
    "sigma = 1\n",
    "for step in range(5):\n",
    "    torch_normal = torch.distributions.Normal(0, sigma)\n",
    "    writer.add_histogram('hist-torch', torch_normal.sample((1, 1000)), step)\n",
    "    sigma += 1"
   ]
  },
  {
   "cell_type": "code",
   "execution_count": null,
   "metadata": {},
   "outputs": [],
   "source": [
    "data = torch.rand((10,3,20,20))\n",
    "labels = torch.ones(10,1,400)\n",
    "#perm = torch.randperm(5)\n",
    "#data = data[perm]\n",
    "#data = data.view(100,-1)\n",
    "#data = data.squeeze(0)\n",
    "out = torch.rand((10,20*20*3,2))#.flatten()\n",
    "#features.shape, data.shape, labels.ndim"
   ]
  },
  {
   "cell_type": "code",
   "execution_count": null,
   "metadata": {},
   "outputs": [],
   "source": [
    "#TODO\n",
    "\"\"\"\n",
    "print(out.shape, out.size(0), out.ndim, data.size(0))\n",
    "print(data.shape, data.ndim, data.shape[1], data.size(0))\n",
    "print(labels.shape, labels.ndim)\n",
    "writer.add_embedding\n",
    "#(data.squeeze(0),\n",
    "#                    metadata=labels.squeeze(0),\n",
    "#                    label_img=data,#.squeeze(0),\n",
    "#                    global_step=1)\n",
    "writer.close()\n",
    "\"\"\"\n",
    "\n",
    "#HELP\n",
    "\"\"\"\n",
    "   print(\"loss_value:{}\".format(loss_value.data.item()))\n",
    "            # we need 3 dimension for tensor to visualize it!\n",
    "            out = torch.cat((out.data, torch.ones(len(out), 1)), 1)\n",
    "            writer.add_embedding(\n",
    "                out,\n",
    "                metadata=label_batch.data,\n",
    "                label_img=data_batch.data,\n",
    "                global_step=n_iter)\n",
    "\"\"\""
   ]
  },
  {
   "cell_type": "code",
   "execution_count": null,
   "metadata": {},
   "outputs": [],
   "source": [
    "writer.close()"
   ]
  },
  {
   "cell_type": "markdown",
   "metadata": {},
   "source": [
    "For Classification"
   ]
  },
  {
   "cell_type": "code",
   "execution_count": null,
   "metadata": {},
   "outputs": [],
   "source": [
    "\"\"\"\n",
    "_, predicted = torch.max(outputs, 1)\n",
    "\n",
    "print('Predicted: ', ' '.join('%5s' % classes[predicted[j]]\n",
    "                              for j in range(4)))\n",
    "\"\"\""
   ]
  },
  {
   "cell_type": "markdown",
   "metadata": {},
   "source": [
    "\n",
    "def preprocess(x, y):\n",
    "    return x.view(-1, 1, 28, 28), y\n",
    "\n",
    "\n",
    "class WrappedDataLoader:\n",
    "    def __init__(self, dl, func):\n",
    "        self.dl = dl\n",
    "        self.func = func\n",
    "\n",
    "    def __len__(self):\n",
    "        return len(self.dl)\n",
    "\n",
    "    def __iter__(self):\n",
    "        batches = iter(self.dl)\n",
    "        for b in batches:\n",
    "            yield (self.func(*b))\n",
    "\n",
    "train_dl, valid_dl = get_data(train_ds, valid_ds, bs)\n",
    "train_dl = WrappedDataLoader(train_dl, preprocess)\n",
    "valid_dl = WrappedDataLoader(valid_dl, preprocess)"
   ]
  },
  {
   "cell_type": "code",
   "execution_count": null,
   "metadata": {},
   "outputs": [],
   "source": []
  }
 ],
 "metadata": {
  "kernelspec": {
   "display_name": "Python 3",
   "language": "python",
   "name": "python3"
  },
  "language_info": {
   "codemirror_mode": {
    "name": "ipython",
    "version": 3
   },
   "file_extension": ".py",
   "mimetype": "text/x-python",
   "name": "python",
   "nbconvert_exporter": "python",
   "pygments_lexer": "ipython3",
   "version": "3.7.3"
  }
 },
 "nbformat": 4,
 "nbformat_minor": 2
}
