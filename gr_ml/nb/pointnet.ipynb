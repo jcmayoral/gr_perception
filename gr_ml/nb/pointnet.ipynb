{
 "cells": [
  {
   "cell_type": "markdown",
   "metadata": {},
   "source": [
    "Model From https://github.com/fxia22/pointnet.pytorch/blob/master/pointnet/model.py"
   ]
  },
  {
   "cell_type": "code",
   "execution_count": 1,
   "metadata": {},
   "outputs": [],
   "source": [
    "import torch\n",
    "import torch.nn as nn\n",
    "import torch.nn.parallel\n",
    "import torch.utils.data\n",
    "from torch.autograd import Variable\n",
    "import numpy as np\n",
    "import torch.nn.functional as F"
   ]
  },
  {
   "cell_type": "code",
   "execution_count": 2,
   "metadata": {},
   "outputs": [
    {
     "name": "stdout",
     "output_type": "stream",
     "text": [
      "stn torch.Size([32, 3, 3])\n",
      "loss tensor(2.0153, grad_fn=<MeanBackward0>)\n",
      "stn64d torch.Size([32, 64, 64])\n",
      "loss tensor(125.9736, grad_fn=<MeanBackward0>)\n",
      "global feat torch.Size([32, 1024])\n",
      "point feat torch.Size([32, 1088, 2500])\n",
      "class torch.Size([32, 5])\n",
      "seg torch.Size([32, 2500, 3])\n"
     ]
    }
   ],
   "source": [
    "class STN3d(nn.Module):\n",
    "    def __init__(self):\n",
    "        super(STN3d, self).__init__()\n",
    "        self.conv1 = torch.nn.Conv1d(3, 64, 1)\n",
    "        self.conv2 = torch.nn.Conv1d(64, 128, 1)\n",
    "        self.conv3 = torch.nn.Conv1d(128, 1024, 1)\n",
    "        self.fc1 = nn.Linear(1024, 512)\n",
    "        self.fc2 = nn.Linear(512, 256)\n",
    "        self.fc3 = nn.Linear(256, 9)\n",
    "        self.relu = nn.ReLU()\n",
    "\n",
    "        self.bn1 = nn.BatchNorm1d(64)\n",
    "        self.bn2 = nn.BatchNorm1d(128)\n",
    "        self.bn3 = nn.BatchNorm1d(1024)\n",
    "        self.bn4 = nn.BatchNorm1d(512)\n",
    "        self.bn5 = nn.BatchNorm1d(256)\n",
    "\n",
    "\n",
    "    def forward(self, x):\n",
    "        batchsize = x.size()[0]\n",
    "        x = F.relu(self.bn1(self.conv1(x)))\n",
    "        x = F.relu(self.bn2(self.conv2(x)))\n",
    "        x = F.relu(self.bn3(self.conv3(x)))\n",
    "        x = torch.max(x, 2, keepdim=True)[0]\n",
    "        x = x.view(-1, 1024)\n",
    "\n",
    "        x = F.relu(self.bn4(self.fc1(x)))\n",
    "        x = F.relu(self.bn5(self.fc2(x)))\n",
    "        x = self.fc3(x)\n",
    "\n",
    "        iden = Variable(torch.from_numpy(np.array([1,0,0,0,1,0,0,0,1]).astype(np.float32))).view(1,9).repeat(batchsize,1)\n",
    "        if x.is_cuda:\n",
    "            iden = iden.cuda()\n",
    "        x = x + iden\n",
    "        x = x.view(-1, 3, 3)\n",
    "        return x\n",
    "\n",
    "\n",
    "class STNkd(nn.Module):\n",
    "    def __init__(self, k=64):\n",
    "        super(STNkd, self).__init__()\n",
    "        self.conv1 = torch.nn.Conv1d(k, 64, 1)\n",
    "        self.conv2 = torch.nn.Conv1d(64, 128, 1)\n",
    "        self.conv3 = torch.nn.Conv1d(128, 1024, 1)\n",
    "        self.fc1 = nn.Linear(1024, 512)\n",
    "        self.fc2 = nn.Linear(512, 256)\n",
    "        self.fc3 = nn.Linear(256, k*k)\n",
    "        self.relu = nn.ReLU()\n",
    "\n",
    "        self.bn1 = nn.BatchNorm1d(64)\n",
    "        self.bn2 = nn.BatchNorm1d(128)\n",
    "        self.bn3 = nn.BatchNorm1d(1024)\n",
    "        self.bn4 = nn.BatchNorm1d(512)\n",
    "        self.bn5 = nn.BatchNorm1d(256)\n",
    "\n",
    "        self.k = k\n",
    "\n",
    "    def forward(self, x):\n",
    "        batchsize = x.size()[0]\n",
    "        x = F.relu(self.bn1(self.conv1(x)))\n",
    "        x = F.relu(self.bn2(self.conv2(x)))\n",
    "        x = F.relu(self.bn3(self.conv3(x)))\n",
    "        x = torch.max(x, 2, keepdim=True)[0]\n",
    "        x = x.view(-1, 1024)\n",
    "\n",
    "        x = F.relu(self.bn4(self.fc1(x)))\n",
    "        x = F.relu(self.bn5(self.fc2(x)))\n",
    "        x = self.fc3(x)\n",
    "\n",
    "        iden = Variable(torch.from_numpy(np.eye(self.k).flatten().astype(np.float32))).view(1,self.k*self.k).repeat(batchsize,1)\n",
    "        if x.is_cuda:\n",
    "            iden = iden.cuda()\n",
    "        x = x + iden\n",
    "        x = x.view(-1, self.k, self.k)\n",
    "        return x\n",
    "\n",
    "class PointNetfeat(nn.Module):\n",
    "    def __init__(self, global_feat = True, feature_transform = False):\n",
    "        super(PointNetfeat, self).__init__()\n",
    "        self.stn = STN3d()\n",
    "        self.conv1 = torch.nn.Conv1d(3, 64, 1)\n",
    "        self.conv2 = torch.nn.Conv1d(64, 128, 1)\n",
    "        self.conv3 = torch.nn.Conv1d(128, 1024, 1)\n",
    "        self.bn1 = nn.BatchNorm1d(64)\n",
    "        self.bn2 = nn.BatchNorm1d(128)\n",
    "        self.bn3 = nn.BatchNorm1d(1024)\n",
    "        self.global_feat = global_feat\n",
    "        self.feature_transform = feature_transform\n",
    "        if self.feature_transform:\n",
    "            self.fstn = STNkd(k=64)\n",
    "\n",
    "    def forward(self, x):\n",
    "        n_pts = x.size()[2]\n",
    "        trans = self.stn(x)\n",
    "        x = x.transpose(2, 1)\n",
    "        x = torch.bmm(x, trans)\n",
    "        x = x.transpose(2, 1)\n",
    "        x = F.relu(self.bn1(self.conv1(x)))\n",
    "\n",
    "        if self.feature_transform:\n",
    "            trans_feat = self.fstn(x)\n",
    "            x = x.transpose(2,1)\n",
    "            x = torch.bmm(x, trans_feat)\n",
    "            x = x.transpose(2,1)\n",
    "        else:\n",
    "            trans_feat = None\n",
    "\n",
    "        pointfeat = x\n",
    "        x = F.relu(self.bn2(self.conv2(x)))\n",
    "        x = self.bn3(self.conv3(x))\n",
    "        x = torch.max(x, 2, keepdim=True)[0]\n",
    "        x = x.view(-1, 1024)\n",
    "        if self.global_feat:\n",
    "            return x, trans, trans_feat\n",
    "        else:\n",
    "            x = x.view(-1, 1024, 1).repeat(1, 1, n_pts)\n",
    "            return torch.cat([x, pointfeat], 1), trans, trans_feat\n",
    "\n",
    "class PointNetCls(nn.Module):\n",
    "    def __init__(self, k=2, feature_transform=False):\n",
    "        super(PointNetCls, self).__init__()\n",
    "        self.feature_transform = feature_transform\n",
    "        self.feat = PointNetfeat(global_feat=True, feature_transform=feature_transform)\n",
    "        self.fc1 = nn.Linear(1024, 512)\n",
    "        self.fc2 = nn.Linear(512, 256)\n",
    "        self.fc3 = nn.Linear(256, k)\n",
    "        self.dropout = nn.Dropout(p=0.3)\n",
    "        self.bn1 = nn.BatchNorm1d(512)\n",
    "        self.bn2 = nn.BatchNorm1d(256)\n",
    "        self.relu = nn.ReLU()\n",
    "\n",
    "    def forward(self, x):\n",
    "        x, trans, trans_feat = self.feat(x)\n",
    "        x = F.relu(self.bn1(self.fc1(x)))\n",
    "        x = F.relu(self.bn2(self.dropout(self.fc2(x))))\n",
    "        x = self.fc3(x)\n",
    "        return x, trans, trans_feat\n",
    "        #return F.log_softmax(x, dim=1), trans, trans_feat\n",
    "\n",
    "\n",
    "class PointNetDenseCls(nn.Module):\n",
    "    def __init__(self, k = 2, feature_transform=False):\n",
    "        super(PointNetDenseCls, self).__init__()\n",
    "        self.k = k\n",
    "        self.feature_transform=feature_transform\n",
    "        self.feat = PointNetfeat(global_feat=False, feature_transform=feature_transform)\n",
    "        self.conv1 = torch.nn.Conv1d(1088, 512, 1)\n",
    "        self.conv2 = torch.nn.Conv1d(512, 256, 1)\n",
    "        self.conv3 = torch.nn.Conv1d(256, 128, 1)\n",
    "        self.conv4 = torch.nn.Conv1d(128, self.k, 1)\n",
    "        self.bn1 = nn.BatchNorm1d(512)\n",
    "        self.bn2 = nn.BatchNorm1d(256)\n",
    "        self.bn3 = nn.BatchNorm1d(128)\n",
    "\n",
    "    def forward(self, x):\n",
    "        batchsize = x.size()[0]\n",
    "        n_pts = x.size()[2]\n",
    "        x, trans, trans_feat = self.feat(x)\n",
    "        x = F.relu(self.bn1(self.conv1(x)))\n",
    "        x = F.relu(self.bn2(self.conv2(x)))\n",
    "        x = F.relu(self.bn3(self.conv3(x)))\n",
    "        x = self.conv4(x)\n",
    "        x = x.transpose(2,1).contiguous()\n",
    "        #x = F.log_softmax(x.view(-1,self.k), dim=-1)\n",
    "        x = x.view(batchsize, n_pts, self.k)\n",
    "        return x, trans, trans_feat\n",
    "\n",
    "def feature_transform_regularizer(trans):\n",
    "    d = trans.size()[1]\n",
    "    batchsize = trans.size()[0]\n",
    "    I = torch.eye(d)[None, :, :]\n",
    "    if trans.is_cuda:\n",
    "        I = I.cuda()\n",
    "    loss = torch.mean(torch.norm(torch.bmm(trans, trans.transpose(2,1)) - I, dim=(1,2)))\n",
    "    return loss\n",
    "\n",
    "if __name__ == '__main__':\n",
    "    sim_data = Variable(torch.rand(32,3,2500))\n",
    "    trans = STN3d()\n",
    "    out = trans(sim_data)\n",
    "    print('stn', out.size())\n",
    "    print('loss', feature_transform_regularizer(out))\n",
    "\n",
    "    sim_data_64d = Variable(torch.rand(32, 64, 2500))\n",
    "    trans = STNkd(k=64)\n",
    "    out = trans(sim_data_64d)\n",
    "    print('stn64d', out.size())\n",
    "    print('loss', feature_transform_regularizer(out))\n",
    "\n",
    "    pointfeat = PointNetfeat(global_feat=True)\n",
    "    out, _, _ = pointfeat(sim_data)\n",
    "    print('global feat', out.size())\n",
    "\n",
    "    pointfeat = PointNetfeat(global_feat=False)\n",
    "    out, _, _ = pointfeat(sim_data)\n",
    "    print('point feat', out.size())\n",
    "\n",
    "    cls = PointNetCls(k = 5)\n",
    "    out, _, _ = cls(sim_data)\n",
    "    print('class', out.size())\n",
    "\n",
    "    seg = PointNetDenseCls(k = 3)\n",
    "    out, _, _ = seg(sim_data)\n",
    "    print('seg', out.size())"
   ]
  },
  {
   "cell_type": "code",
   "execution_count": 3,
   "metadata": {},
   "outputs": [
    {
     "name": "stdout",
     "output_type": "stream",
     "text": [
      "torch.Size([32, 3, 500])\n",
      "3\n",
      "torch.Size([32, 500, 1])\n",
      "torch.Size([32, 3, 3])\n",
      "None\n"
     ]
    }
   ],
   "source": [
    "#batch, dim, npoints\n",
    "sim_data = Variable(torch.rand(32,3,500))\n",
    "print(sim_data.shape)\n",
    "classifier = PointNetDenseCls(k=1, feature_transform=None)\n",
    "output = classifier(sim_data)\n",
    "print(len(output))\n",
    "print (output[0].shape)\n",
    "print (output[1].shape)\n",
    "print (output[2])"
   ]
  },
  {
   "cell_type": "code",
   "execution_count": 4,
   "metadata": {},
   "outputs": [],
   "source": [
    "stn3d=STN3d()"
   ]
  },
  {
   "cell_type": "code",
   "execution_count": 5,
   "metadata": {},
   "outputs": [
    {
     "name": "stdout",
     "output_type": "stream",
     "text": [
      "(8, 8, 3)\n"
     ]
    },
    {
     "data": {
      "text/plain": [
       "<Figure size 640x480 with 1 Axes>"
      ]
     },
     "metadata": {},
     "output_type": "display_data"
    }
   ],
   "source": [
    "import matplotlib.pyplot as plt\n",
    "import numpy as np\n",
    "from mpl_toolkits.mplot3d import Axes3D  # noqa: F401 unused import\n",
    "\n",
    "\n",
    "# prepare some coordinates\n",
    "x, y, z = np.indices((8, 8, 3))\n",
    "\n",
    "# draw cuboids in the top left and bottom right corners, and a link between them\n",
    "cube1 = (x < 1) & (y < 1) & (z < 1)\n",
    "cube2 = (x >= 2) & (y >= 2) & (z >= 2)\n",
    "link = abs(x - y) + abs(y - z) + abs(z - x) <= 2\n",
    "\n",
    "# combine the objects into a single boolean array\n",
    "voxels = cube1 | cube2 | link\n",
    "\n",
    "# set the colors of each object\n",
    "colors = np.empty(voxels.shape, dtype=object)\n",
    "colors[link] = 'red'\n",
    "colors[cube1] = 'blue'\n",
    "colors[cube2] = 'green'\n",
    "print(colors.shape)\n",
    "\n",
    "# and plot everything\n",
    "fig = plt.figure()\n",
    "ax = fig.gca(projection='3d')\n",
    "ax.voxels(voxels, facecolors=colors, edgecolor='k')\n",
    "\n",
    "plt.show()"
   ]
  },
  {
   "cell_type": "markdown",
   "metadata": {},
   "source": [
    "### Source https://discuss.pytorch.org/t/which-part-of-pytorch-tensor-represents-channels/21778\n",
    "The first number represents the Batchsize (N) and for tensors holding data of a dimension of 1 or above the next dimension is usually referred to as channel-dimension. The following dimensions are commonly height, width and depth.\n",
    "So for 2d data (images) you have a 4d tensor of NxCxHxW which you feed into a 2d conv layer.\n",
    "\n",
    "Note that channels only exist for convolutional layers. Linear layers for example need a shape of N x #num_features"
   ]
  },
  {
   "cell_type": "code",
   "execution_count": 406,
   "metadata": {},
   "outputs": [],
   "source": [
    "#TODO\n",
    "class MyDataset(torch.utils.data.Dataset):\n",
    "    def __init__(self, path=\"\", pointsnumber=100):\n",
    "        #how many pointclouds\n",
    "        self.nsamples = 1000\n",
    "        self.pointsnumber = pointsnumber\n",
    "\n",
    "    def __getitem__(self,index):\n",
    "        x = np.zeros((3,pointsnumber), dtype=np.double)\n",
    "        y = 1\n",
    "        return (x,1)\n",
    "    \n",
    "    def __len__(self):\n",
    "        return self.nsamples"
   ]
  },
  {
   "cell_type": "code",
   "execution_count": 407,
   "metadata": {},
   "outputs": [],
   "source": [
    "class WrappedDataLoader:\n",
    "    def __init__(self, dl,nsamples):\n",
    "        self.dl = dl\n",
    "        self.func = self.tocuda\n",
    "        self.batchsize = len(self.dl)\n",
    "        self.nsamples = nsamples\n",
    "    \n",
    "    def tocuda(self,x,y):\n",
    "        return x.cuda(), y.cuda()\n",
    "\n",
    "    def __len__(self):\n",
    "        return len(self.dl)\n",
    "\n",
    "    def __iter__(self):\n",
    "        batches = iter(self.dl)\n",
    "        for b in batches:\n",
    "            yield (self.func(*b))"
   ]
  },
  {
   "cell_type": "code",
   "execution_count": 581,
   "metadata": {},
   "outputs": [],
   "source": [
    "#OR train_ds = TensorDataset(x_train, y_train)\n",
    "\n",
    "def get_data(train_ds, valid_ds, bs, nsamples):\n",
    "    return (\n",
    "        WrappedDataLoader(DataLoader(train_ds, batch_size=bs), nsamples),\n",
    "        WrappedDataLoader(DataLoader(valid_ds, batch_size=bs * 2), nsamples),\n",
    "    )\n",
    "\n",
    "#gen = DataLoader(TensorDataset(data, labels), batch_size=25, shuffle=True)\n"
   ]
  },
  {
   "cell_type": "code",
   "execution_count": 410,
   "metadata": {},
   "outputs": [],
   "source": [
    "pointsnumber = 100\n",
    "batchsize = 50"
   ]
  },
  {
   "cell_type": "code",
   "execution_count": 411,
   "metadata": {},
   "outputs": [],
   "source": [
    "from torch.utils.data import DataLoader, TensorDataset\n",
    "itdataset = MyDataset(pointsnumber=pointsnumber)\n",
    "traingen, valgen = get_data(itdataset,itdataset,bs=batchsize, nsamples=itdataset.nsamples)"
   ]
  },
  {
   "cell_type": "code",
   "execution_count": 412,
   "metadata": {},
   "outputs": [],
   "source": [
    "class MyModel(torch.nn.Module):\n",
    "    def __init__(self, n_points=50):\n",
    "        super(MyModel, self).__init__()\n",
    "        self.n_points = n_points\n",
    "        self.conv1 = torch.nn.Conv1d(3, 32, 1)\n",
    "        self.conv2 = torch.nn.Conv1d(32, 16, 1)\n",
    "        self.conv3 = torch.nn.Conv1d(16, 1, 1)\n",
    "        self.lin1 = torch.nn.Linear(n_points, 1)\n",
    "        self.bn1 = nn.BatchNorm1d(32)\n",
    "        self.bn2 = nn.BatchNorm1d(16)\n",
    "        self.criterion = nn.MSELoss()\n",
    "        self.optimizer = torch.optim.SGD(self.parameters(), lr=0.01, momentum=0.2)\n",
    "        self.batch_loss = list()\n",
    "\n",
    "    def forward(self, x):\n",
    "        batchsize = x.size()[0]\n",
    "        x = F.relu(self.bn1(self.conv1(x)))\n",
    "        x = F.relu(self.bn2(self.conv2(x)))\n",
    "        x = F.relu(self.conv3(x))\n",
    "        #x = torch.max(x, 2, keepdim=True)\n",
    "        x = x.view(batchsize,-1)\n",
    "        #x = x.flatten()\n",
    "        x = F.relu(self.lin1(x))\n",
    "        #print(x.item(), \"TEST\")\n",
    "        return x\n",
    "\n",
    "    def trainbatch(self,x,targets,batchid):\n",
    "        self.optimizer.zero_grad()\n",
    "        output = self.__call__(x)\n",
    "        \n",
    "        loss = self.criterion(output,targets)\n",
    "        loss.backward()\n",
    "        self.optimizer.step()\n",
    "\n",
    "        self.epoch_loss += loss.item()\n",
    "        self.batch_loss.append(loss.item())\n",
    "\n",
    "        #print(\"Batch {} - batch loss: {}\".format(batchid, loss.item()))\n",
    "\n",
    "    def mytrain(self,traindata,valdata,nepochs=5,valsamples=10, device=\"cuda\"):\n",
    "        epoch_loss = list()\n",
    "        #self.batch_loss = list()\n",
    "        self.train()\n",
    "\n",
    "        for epoch in range(nepochs):\n",
    "\n",
    "            self.epoch_loss = 0.0\n",
    "\n",
    "            #batches number\n",
    "            for b,x in enumerate(traindata):\n",
    "                self.trainbatch(x[0].float(),x[1].float(),b)\n",
    "\n",
    "            self.epoch_loss /= traindata.nsamples\n",
    "            \n",
    "            print(\"Epoch {} - epoch loss: {}\".format(epoch, self.epoch_loss), end=\" \")\n",
    "            epoch_loss.append(self.epoch_loss)\n",
    "\n",
    "            #validation\n",
    "            self.eval()\n",
    "            with torch.no_grad():\n",
    "                valid_loss = sum(self.criterion(self.__call__(xb.float()), yb.float()) for xb, yb in valdata)\n",
    "            print(\" validation loss {}\".format(valid_loss/valdata.nsamples), sep=\"..\")\n",
    "        return epoch_loss\n",
    "\n",
    "    def predict(self,x):\n",
    "        with torch.no_grad():\n",
    "            return self.__call__(x)"
   ]
  },
  {
   "cell_type": "markdown",
   "metadata": {},
   "source": [
    "# Note from pytorch tutorial for validation\n",
    "\n",
    "def loss_batch(model, loss_func, xb, yb, opt=None):\n",
    "    loss = loss_func(model(xb), yb)\n",
    "\n",
    "    if opt is not None:\n",
    "        loss.backward()\n",
    "        opt.step()\n",
    "        opt.zero_grad()\n",
    "\n",
    "    return loss.item(), len(xb)\n",
    "\n",
    "...\n",
    "\n",
    "model.eval()\n",
    "\n",
    "with torch.no_grad():\n",
    "\n",
    "    losses, nums = zip(\n",
    "                *[loss_batch(model, loss_func, xb, yb) for xb, yb in valid_dl]\n",
    "    )\n",
    "    val_loss = np.sum(np.multiply(losses, nums)) / np.sum(nums"
   ]
  },
  {
   "cell_type": "code",
   "execution_count": 418,
   "metadata": {},
   "outputs": [],
   "source": [
    "mymodel = MyModel(n_points=pointsnumber)"
   ]
  },
  {
   "cell_type": "code",
   "execution_count": 424,
   "metadata": {},
   "outputs": [
    {
     "name": "stdout",
     "output_type": "stream",
     "text": [
      "Epoch 0 - epoch loss: 1.3843160803237887e-05  validation loss 0.00015201850328594446\n",
      "Epoch 1 - epoch loss: 0.008973854941315949  validation loss 0.0027105396147817373\n",
      "Epoch 2 - epoch loss: 0.003486547015607357  validation loss 0.0009780190885066986\n",
      "Epoch 3 - epoch loss: 0.0012580185644328595  validation loss 0.0003528896486386657\n",
      "Epoch 4 - epoch loss: 0.00045391925051808355  validation loss 0.0001273298403248191\n",
      "Epoch 5 - epoch loss: 0.00016378331882879138  validation loss 4.594317215378396e-05\n",
      "Epoch 6 - epoch loss: 5.9096406097523865e-05  validation loss 1.6577190763200633e-05\n",
      "Epoch 7 - epoch loss: 2.132311410969123e-05  validation loss 5.981409685773542e-06\n",
      "Epoch 8 - epoch loss: 7.693801206187345e-06  validation loss 2.1582006866083248e-06\n",
      "Epoch 9 - epoch loss: 2.776040229946375e-06  validation loss 7.78701689796435e-07\n",
      "Epoch 10 - epoch loss: 1.0016310807259288e-06  validation loss 2.8096806659050344e-07\n",
      "Epoch 11 - epoch loss: 3.614132483562571e-07  validation loss 1.0138364103795539e-07\n",
      "Epoch 12 - epoch loss: 1.304113338846946e-07  validation loss 3.6580164675115157e-08\n",
      "Epoch 13 - epoch loss: 4.7052184754647893e-08  validation loss 1.3197870352144037e-08\n",
      "Epoch 14 - epoch loss: 1.6975647895378642e-08  validation loss 4.7615920095722686e-09\n",
      "Epoch 15 - epoch loss: 6.124261290096911e-09  validation loss 1.7175312283512767e-09\n",
      "Epoch 16 - epoch loss: 2.20925433325192e-09  validation loss 6.19853612882082e-10\n",
      "Epoch 17 - epoch loss: 7.975513476310425e-10  validation loss 2.2382452835589817e-10\n",
      "Epoch 18 - epoch loss: 2.8774412186294286e-10  validation loss 8.068384155235364e-11\n",
      "Epoch 19 - epoch loss: 1.0378222792262193e-10  validation loss 2.909761494251928e-11\n",
      "Epoch 20 - epoch loss: 3.7320180390487676e-11  validation loss 1.0436594297114077e-11\n",
      "Epoch 21 - epoch loss: 1.3406680238192692e-11  validation loss 3.752553823233029e-12\n",
      "Epoch 22 - epoch loss: 4.832092059814386e-12  validation loss 1.3648104998584265e-12\n",
      "Epoch 23 - epoch loss: 1.7495160806180188e-12  validation loss 4.946798721518209e-13\n",
      "Epoch 24 - epoch loss: 6.326388302113628e-13  validation loss 1.7909230955875932e-13\n"
     ]
    }
   ],
   "source": [
    "device = torch.device(\"cpu\")\n",
    "if torch.cuda.is_available():\n",
    "    #sim_data = Variable(torch.rand(2,3,1))\n",
    "    device = torch.device(\"cuda\")          # a CUDA device object\n",
    "    #y = torch.ones_like(sim_data, device=device)  # directly create a tensor on GPU\n",
    "    #x = sim_data.to(device)                       # or just use strings ``.to(\"cuda\")``\n",
    "    #print(x)\n",
    "    #print(x.to(\"cpu\", torch.double))       # ``.to`` can also change dtype together!\n",
    "    mymodel.cuda()\n",
    "#print(device)\n",
    "losses = mymodel.mytrain(traingen, valgen,nepochs=25)"
   ]
  },
  {
   "cell_type": "code",
   "execution_count": 420,
   "metadata": {},
   "outputs": [],
   "source": [
    "#print(torch.randint(0,10,(10,1)))"
   ]
  },
  {
   "cell_type": "code",
   "execution_count": 421,
   "metadata": {},
   "outputs": [
    {
     "data": {
      "text/plain": [
       "'\\nparams = list(mymodel.parameters())\\nprint(len(params))\\nprint(params[0].size())\\nacc = np.sum([i.sum().cpu().detach().numpy() for i in params])\\nprint([i.sum().cpu().detach().numpy() for i in params])\\nprint(acc)\\n'"
      ]
     },
     "execution_count": 421,
     "metadata": {},
     "output_type": "execute_result"
    }
   ],
   "source": [
    "import numpy as np\n",
    "\"\"\"\n",
    "params = list(mymodel.parameters())\n",
    "print(len(params))\n",
    "print(params[0].size())\n",
    "acc = np.sum([i.sum().cpu().detach().numpy() for i in params])\n",
    "print([i.sum().cpu().detach().numpy() for i in params])\n",
    "print(acc)\n",
    "\"\"\""
   ]
  },
  {
   "cell_type": "code",
   "execution_count": 425,
   "metadata": {},
   "outputs": [
    {
     "data": {
      "text/plain": [
       "[<matplotlib.lines.Line2D at 0x7f8810706908>]"
      ]
     },
     "execution_count": 425,
     "metadata": {},
     "output_type": "execute_result"
    },
    {
     "data": {
      "image/png": "[encoded data removed]",
      "text/plain": [
       "<Figure size 432x288 with 1 Axes>"
      ]
     },
     "metadata": {
      "needs_background": "light"
     },
     "output_type": "display_data"
    }
   ],
   "source": [
    "plt.plot(np.arange(len(losses)), losses)"
   ]
  },
  {
   "cell_type": "code",
   "execution_count": 426,
   "metadata": {},
   "outputs": [
    {
     "data": {
      "text/plain": [
       "[<matplotlib.lines.Line2D at 0x7f8810854e48>]"
      ]
     },
     "execution_count": 426,
     "metadata": {},
     "output_type": "execute_result"
    },
    {
     "data": {
      "image/png": "[encoded data removed]",
      "text/plain": [
       "<Figure size 432x288 with 1 Axes>"
      ]
     },
     "metadata": {
      "needs_background": "light"
     },
     "output_type": "display_data"
    }
   ],
   "source": [
    "plt.plot(np.arange(len(mymodel.batch_loss)), mymodel.batch_loss)"
   ]
  },
  {
   "cell_type": "code",
   "execution_count": 13,
   "metadata": {},
   "outputs": [
    {
     "data": {
      "text/plain": [
       "MSELoss()"
      ]
     },
     "execution_count": 13,
     "metadata": {},
     "output_type": "execute_result"
    }
   ],
   "source": [
    "mymodel.criterion"
   ]
  },
  {
   "cell_type": "code",
   "execution_count": 427,
   "metadata": {},
   "outputs": [
    {
     "name": "stdout",
     "output_type": "stream",
     "text": [
      "cuda\n",
      "MSE 8.25526237487793\n"
     ]
    }
   ],
   "source": [
    "print(device)\n",
    "x = Variable(torch.rand(20,3,mymodel.n_points)).to(device)\n",
    "targets = torch.rand((20,1)).to(device)\n",
    "y_pred = mymodel.predict(x)\n",
    "print(\"MSE {}\".format(((targets - y_pred)**2).sum()))"
   ]
  },
  {
   "cell_type": "markdown",
   "metadata": {},
   "source": [
    "# TESTING TENSORBOARD"
   ]
  },
  {
   "cell_type": "code",
   "execution_count": 686,
   "metadata": {},
   "outputs": [],
   "source": [
    "from torch.utils.tensorboard import SummaryWriter\n",
    "\n",
    "# default `log_dir` is \"runs\" - we'll be more specific here\n",
    "writer = SummaryWriter('scalar/testingtensorboard')"
   ]
  },
  {
   "cell_type": "code",
   "execution_count": 687,
   "metadata": {},
   "outputs": [],
   "source": [
    "for step in range(-360, 360):\n",
    "    angle_rad = step * math.pi / 180\n",
    "    writer.add_scalar('sin', math.sin(angle_rad)*step, step)\n",
    "    writer.add_scalar('cos', math.cos(angle_rad)*step, step)\n",
    "    writer.add_scalars('sin and cos', {'sin': math.sin(angle_rad), 'cos': math.cos(angle_rad)}, step)"
   ]
  },
  {
   "cell_type": "code",
   "execution_count": 688,
   "metadata": {},
   "outputs": [],
   "source": [
    "dataiter = iter(traingen)\n",
    "databatch, labels = next(dataiter)\n",
    "writer.add_graph(mymodel, databatch.float())\n"
   ]
  },
  {
   "cell_type": "code",
   "execution_count": 689,
   "metadata": {},
   "outputs": [],
   "source": [
    "for n_iter in range(100):\n",
    "    writer.add_scalar('Loss/train', np.random.random(), n_iter)\n",
    "    writer.add_scalar('Loss/test', np.random.random(), n_iter)\n",
    "    writer.add_scalar('Accuracy/train', np.random.random(), n_iter)\n",
    "    writer.add_scalar('Accuracy/test', np.random.random(), n_iter)"
   ]
  },
  {
   "cell_type": "code",
   "execution_count": 690,
   "metadata": {},
   "outputs": [],
   "source": [
    "r = 5\n",
    "for i in range(100):\n",
    "    writer.add_scalars('run_14h', {'xsinx':i*np.sin(i/r),\n",
    "                                    'xcosx':i*np.cos(i/r),\n",
    "                                    'tanx': np.tan(i/r)}, i)"
   ]
  },
  {
   "cell_type": "code",
   "execution_count": 691,
   "metadata": {},
   "outputs": [],
   "source": [
    "sigma = 1\n",
    "for step in range(5):\n",
    "    writer.add_histogram('hist-numpy', np.random.normal(0, sigma, 1000), step)\n",
    "    sigma += 1\n",
    "sigma = 1\n",
    "for step in range(5):\n",
    "    torch_normal = torch.distributions.Normal(0, sigma)\n",
    "    writer.add_histogram('hist-torch', torch_normal.sample((1, 1000)), step)\n",
    "    sigma += 1"
   ]
  },
  {
   "cell_type": "code",
   "execution_count": 669,
   "metadata": {},
   "outputs": [],
   "source": [
    "data = torch.rand((10,3,20,20))\n",
    "labels = torch.ones(10,1,400)\n",
    "#perm = torch.randperm(5)\n",
    "#data = data[perm]\n",
    "#data = data.view(100,-1)\n",
    "#data = data.squeeze(0)\n",
    "out = torch.rand((10,20*20*3,2))#.flatten()\n",
    "#features.shape, data.shape, labels.ndim"
   ]
  },
  {
   "cell_type": "code",
   "execution_count": 677,
   "metadata": {},
   "outputs": [
    {
     "data": {
      "text/plain": [
       "'\\nprint(out.shape, out.size(0), out.ndim, data.size(0))\\nprint(data.shape, data.ndim, data.shape[1], data.size(0))\\nprint(labels.shape, labels.ndim)\\nwriter.add_embedding\\n#(data.squeeze(0),\\n#                    metadata=labels.squeeze(0),\\n#                    label_img=data,#.squeeze(0),\\n#                    global_step=1)\\nwriter.close()\\n'"
      ]
     },
     "execution_count": 677,
     "metadata": {},
     "output_type": "execute_result"
    }
   ],
   "source": [
    "#TODO\n",
    "\"\"\"\n",
    "print(out.shape, out.size(0), out.ndim, data.size(0))\n",
    "print(data.shape, data.ndim, data.shape[1], data.size(0))\n",
    "print(labels.shape, labels.ndim)\n",
    "writer.add_embedding\n",
    "#(data.squeeze(0),\n",
    "#                    metadata=labels.squeeze(0),\n",
    "#                    label_img=data,#.squeeze(0),\n",
    "#                    global_step=1)\n",
    "writer.close()\n",
    "\"\"\"\n",
    "\n",
    "#HELP\n",
    "\"\"\"\n",
    "   print(\"loss_value:{}\".format(loss_value.data.item()))\n",
    "            # we need 3 dimension for tensor to visualize it!\n",
    "            out = torch.cat((out.data, torch.ones(len(out), 1)), 1)\n",
    "            writer.add_embedding(\n",
    "                out,\n",
    "                metadata=label_batch.data,\n",
    "                label_img=data_batch.data,\n",
    "                global_step=n_iter)\n",
    "\"\"\""
   ]
  },
  {
   "cell_type": "code",
   "execution_count": 692,
   "metadata": {},
   "outputs": [],
   "source": [
    "writer.close()"
   ]
  },
  {
   "cell_type": "markdown",
   "metadata": {},
   "source": [
    "For Classification"
   ]
  },
  {
   "cell_type": "code",
   "execution_count": null,
   "metadata": {},
   "outputs": [],
   "source": [
    "\"\"\"\n",
    "_, predicted = torch.max(outputs, 1)\n",
    "\n",
    "print('Predicted: ', ' '.join('%5s' % classes[predicted[j]]\n",
    "                              for j in range(4)))\n",
    "\"\"\""
   ]
  },
  {
   "cell_type": "markdown",
   "metadata": {},
   "source": [
    "\n",
    "def preprocess(x, y):\n",
    "    return x.view(-1, 1, 28, 28), y\n",
    "\n",
    "\n",
    "class WrappedDataLoader:\n",
    "    def __init__(self, dl, func):\n",
    "        self.dl = dl\n",
    "        self.func = func\n",
    "\n",
    "    def __len__(self):\n",
    "        return len(self.dl)\n",
    "\n",
    "    def __iter__(self):\n",
    "        batches = iter(self.dl)\n",
    "        for b in batches:\n",
    "            yield (self.func(*b))\n",
    "\n",
    "train_dl, valid_dl = get_data(train_ds, valid_ds, bs)\n",
    "train_dl = WrappedDataLoader(train_dl, preprocess)\n",
    "valid_dl = WrappedDataLoader(valid_dl, preprocess)"
   ]
  },
  {
   "cell_type": "code",
   "execution_count": null,
   "metadata": {},
   "outputs": [],
   "source": []
  }
 ],
 "metadata": {
  "kernelspec": {
   "display_name": "Python 3",
   "language": "python",
   "name": "python3"
  },
  "language_info": {
   "codemirror_mode": {
    "name": "ipython",
    "version": 3
   },
   "file_extension": ".py",
   "mimetype": "text/x-python",
   "name": "python",
   "nbconvert_exporter": "python",
   "pygments_lexer": "ipython3",
   "version": "3.7.3"
  }
 },
 "nbformat": 4,
 "nbformat_minor": 2
}
