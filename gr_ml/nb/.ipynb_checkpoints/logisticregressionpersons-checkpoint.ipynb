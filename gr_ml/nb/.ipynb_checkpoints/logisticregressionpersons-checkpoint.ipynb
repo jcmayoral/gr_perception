{
 "cells": [
  {
   "cell_type": "markdown",
   "metadata": {},
   "source": [
    "Load data"
   ]
  },
  {
   "cell_type": "code",
   "execution_count": 1,
   "metadata": {},
   "outputs": [],
   "source": [
    "import pandas as pd"
   ]
  },
  {
   "cell_type": "code",
   "execution_count": 2,
   "metadata": {},
   "outputs": [],
   "source": [
    "df = pd.read_csv(\"/media/person_data.csv\")"
   ]
  },
  {
   "cell_type": "code",
   "execution_count": 3,
   "metadata": {
    "scrolled": true
   },
   "outputs": [
    {
     "data": {
      "text/html": [
       "<div>\n",
       "<style scoped>\n",
       "    .dataframe tbody tr th:only-of-type {\n",
       "        vertical-align: middle;\n",
       "    }\n",
       "\n",
       "    .dataframe tbody tr th {\n",
       "        vertical-align: top;\n",
       "    }\n",
       "\n",
       "    .dataframe thead th {\n",
       "        text-align: right;\n",
       "    }\n",
       "</style>\n",
       "<table border=\"1\" class=\"dataframe\">\n",
       "  <thead>\n",
       "    <tr style=\"text-align: right;\">\n",
       "      <th></th>\n",
       "      <th>OriginalID</th>\n",
       "      <th>Stamp</th>\n",
       "      <th>LabeledId</th>\n",
       "      <th>MeanX</th>\n",
       "      <th>MreanY</th>\n",
       "      <th>MeanZ</th>\n",
       "      <th>MeanI</th>\n",
       "      <th>VarX</th>\n",
       "      <th>VarY</th>\n",
       "      <th>VarZ</th>\n",
       "      <th>VarI</th>\n",
       "      <th>RangeX</th>\n",
       "      <th>RangeY</th>\n",
       "      <th>RangeZ</th>\n",
       "      <th>RangeI</th>\n",
       "      <th>SafetyIndex</th>\n",
       "    </tr>\n",
       "  </thead>\n",
       "  <tbody>\n",
       "    <tr>\n",
       "      <th>0</th>\n",
       "      <td>person_BGV160</td>\n",
       "      <td>1.593697e+18</td>\n",
       "      <td>person_CHW026</td>\n",
       "      <td>2.16070</td>\n",
       "      <td>-1.51747</td>\n",
       "      <td>0.009536</td>\n",
       "      <td>25.7358</td>\n",
       "      <td>0.017539</td>\n",
       "      <td>0.008052</td>\n",
       "      <td>0.070805</td>\n",
       "      <td>161.762</td>\n",
       "      <td>0.580519</td>\n",
       "      <td>0.501747</td>\n",
       "      <td>0.962191</td>\n",
       "      <td>53</td>\n",
       "      <td>691.907</td>\n",
       "    </tr>\n",
       "    <tr>\n",
       "      <th>1</th>\n",
       "      <td>person_BGV160</td>\n",
       "      <td>1.593697e+18</td>\n",
       "      <td>person_CHW026</td>\n",
       "      <td>2.10568</td>\n",
       "      <td>-1.42697</td>\n",
       "      <td>0.000821</td>\n",
       "      <td>26.6586</td>\n",
       "      <td>0.016780</td>\n",
       "      <td>0.010158</td>\n",
       "      <td>0.067378</td>\n",
       "      <td>157.341</td>\n",
       "      <td>0.549305</td>\n",
       "      <td>0.558436</td>\n",
       "      <td>0.929846</td>\n",
       "      <td>53</td>\n",
       "      <td>691.907</td>\n",
       "    </tr>\n",
       "    <tr>\n",
       "      <th>2</th>\n",
       "      <td>person_BGV160</td>\n",
       "      <td>1.593697e+18</td>\n",
       "      <td>person_CHW026</td>\n",
       "      <td>2.04742</td>\n",
       "      <td>-1.34319</td>\n",
       "      <td>0.001883</td>\n",
       "      <td>25.0231</td>\n",
       "      <td>0.031696</td>\n",
       "      <td>0.012176</td>\n",
       "      <td>0.077002</td>\n",
       "      <td>185.470</td>\n",
       "      <td>1.073560</td>\n",
       "      <td>0.886896</td>\n",
       "      <td>1.049920</td>\n",
       "      <td>53</td>\n",
       "      <td>691.907</td>\n",
       "    </tr>\n",
       "    <tr>\n",
       "      <th>3</th>\n",
       "      <td>person_BGV160</td>\n",
       "      <td>1.593697e+18</td>\n",
       "      <td>person_CHW026</td>\n",
       "      <td>2.03730</td>\n",
       "      <td>-1.27878</td>\n",
       "      <td>0.030707</td>\n",
       "      <td>25.9707</td>\n",
       "      <td>0.024252</td>\n",
       "      <td>0.008819</td>\n",
       "      <td>0.073974</td>\n",
       "      <td>148.507</td>\n",
       "      <td>1.022480</td>\n",
       "      <td>0.517114</td>\n",
       "      <td>1.006430</td>\n",
       "      <td>52</td>\n",
       "      <td>691.907</td>\n",
       "    </tr>\n",
       "    <tr>\n",
       "      <th>4</th>\n",
       "      <td>person_BGV160</td>\n",
       "      <td>1.593697e+18</td>\n",
       "      <td>person_CHW026</td>\n",
       "      <td>2.00939</td>\n",
       "      <td>-1.23015</td>\n",
       "      <td>0.018220</td>\n",
       "      <td>26.5070</td>\n",
       "      <td>0.022890</td>\n",
       "      <td>0.009475</td>\n",
       "      <td>0.086418</td>\n",
       "      <td>155.662</td>\n",
       "      <td>0.981035</td>\n",
       "      <td>0.661598</td>\n",
       "      <td>1.103300</td>\n",
       "      <td>53</td>\n",
       "      <td>1251.220</td>\n",
       "    </tr>\n",
       "  </tbody>\n",
       "</table>\n",
       "</div>"
      ],
      "text/plain": [
       "      OriginalID         Stamp      LabeledId    MeanX   MreanY     MeanZ  \\\n",
       "0  person_BGV160  1.593697e+18  person_CHW026  2.16070 -1.51747  0.009536   \n",
       "1  person_BGV160  1.593697e+18  person_CHW026  2.10568 -1.42697  0.000821   \n",
       "2  person_BGV160  1.593697e+18  person_CHW026  2.04742 -1.34319  0.001883   \n",
       "3  person_BGV160  1.593697e+18  person_CHW026  2.03730 -1.27878  0.030707   \n",
       "4  person_BGV160  1.593697e+18  person_CHW026  2.00939 -1.23015  0.018220   \n",
       "\n",
       "     MeanI      VarX      VarY      VarZ     VarI    RangeX    RangeY  \\\n",
       "0  25.7358  0.017539  0.008052  0.070805  161.762  0.580519  0.501747   \n",
       "1  26.6586  0.016780  0.010158  0.067378  157.341  0.549305  0.558436   \n",
       "2  25.0231  0.031696  0.012176  0.077002  185.470  1.073560  0.886896   \n",
       "3  25.9707  0.024252  0.008819  0.073974  148.507  1.022480  0.517114   \n",
       "4  26.5070  0.022890  0.009475  0.086418  155.662  0.981035  0.661598   \n",
       "\n",
       "     RangeZ   RangeI  SafetyIndex  \n",
       "0  0.962191       53      691.907  \n",
       "1  0.929846       53      691.907  \n",
       "2  1.049920       53      691.907  \n",
       "3  1.006430       52      691.907  \n",
       "4  1.103300       53     1251.220  "
      ]
     },
     "execution_count": 3,
     "metadata": {},
     "output_type": "execute_result"
    }
   ],
   "source": [
    "df.head()"
   ]
  },
  {
   "cell_type": "code",
   "execution_count": 4,
   "metadata": {},
   "outputs": [
    {
     "data": {
      "text/plain": [
       "Index(['OriginalID', 'Stamp', 'LabeledId', 'MeanX', 'MreanY', ' MeanZ',\n",
       "       ' MeanI', ' VarX', ' VarY', ' VarZ', ' VarI', ' RangeX', ' RangeY',\n",
       "       ' RangeZ', ' RangeI', 'SafetyIndex'],\n",
       "      dtype='object')"
      ]
     },
     "execution_count": 4,
     "metadata": {},
     "output_type": "execute_result"
    }
   ],
   "source": [
    "df.columns"
   ]
  },
  {
   "cell_type": "code",
   "execution_count": 5,
   "metadata": {},
   "outputs": [
    {
     "data": {
      "text/html": [
       "<div>\n",
       "<style scoped>\n",
       "    .dataframe tbody tr th:only-of-type {\n",
       "        vertical-align: middle;\n",
       "    }\n",
       "\n",
       "    .dataframe tbody tr th {\n",
       "        vertical-align: top;\n",
       "    }\n",
       "\n",
       "    .dataframe thead th {\n",
       "        text-align: right;\n",
       "    }\n",
       "</style>\n",
       "<table border=\"1\" class=\"dataframe\">\n",
       "  <thead>\n",
       "    <tr style=\"text-align: right;\">\n",
       "      <th></th>\n",
       "      <th>Stamp</th>\n",
       "      <th>MeanX</th>\n",
       "      <th>MreanY</th>\n",
       "      <th>MeanZ</th>\n",
       "      <th>MeanI</th>\n",
       "      <th>VarX</th>\n",
       "      <th>VarY</th>\n",
       "      <th>VarZ</th>\n",
       "      <th>VarI</th>\n",
       "      <th>RangeX</th>\n",
       "      <th>RangeY</th>\n",
       "      <th>RangeZ</th>\n",
       "      <th>RangeI</th>\n",
       "      <th>SafetyIndex</th>\n",
       "    </tr>\n",
       "  </thead>\n",
       "  <tbody>\n",
       "    <tr>\n",
       "      <th>count</th>\n",
       "      <td>2.324000e+03</td>\n",
       "      <td>2324.000000</td>\n",
       "      <td>2324.000000</td>\n",
       "      <td>2324.000000</td>\n",
       "      <td>2324.000000</td>\n",
       "      <td>2324.000000</td>\n",
       "      <td>2324.000000</td>\n",
       "      <td>2324.000000</td>\n",
       "      <td>2324.000000</td>\n",
       "      <td>2324.000000</td>\n",
       "      <td>2324.000000</td>\n",
       "      <td>2324.000000</td>\n",
       "      <td>2324.000000</td>\n",
       "      <td>2324.000000</td>\n",
       "    </tr>\n",
       "    <tr>\n",
       "      <th>mean</th>\n",
       "      <td>1.593700e+18</td>\n",
       "      <td>-1.646874</td>\n",
       "      <td>1.013887</td>\n",
       "      <td>-0.027388</td>\n",
       "      <td>21.114438</td>\n",
       "      <td>0.010110</td>\n",
       "      <td>0.014162</td>\n",
       "      <td>0.108754</td>\n",
       "      <td>181.642438</td>\n",
       "      <td>0.448857</td>\n",
       "      <td>0.520696</td>\n",
       "      <td>1.158931</td>\n",
       "      <td>49.970310</td>\n",
       "      <td>624.893181</td>\n",
       "    </tr>\n",
       "    <tr>\n",
       "      <th>std</th>\n",
       "      <td>1.667798e+13</td>\n",
       "      <td>3.188470</td>\n",
       "      <td>2.763491</td>\n",
       "      <td>0.142807</td>\n",
       "      <td>12.851785</td>\n",
       "      <td>0.009565</td>\n",
       "      <td>0.009354</td>\n",
       "      <td>0.038165</td>\n",
       "      <td>199.822858</td>\n",
       "      <td>0.162543</td>\n",
       "      <td>0.186558</td>\n",
       "      <td>0.192854</td>\n",
       "      <td>27.569729</td>\n",
       "      <td>532.090253</td>\n",
       "    </tr>\n",
       "    <tr>\n",
       "      <th>min</th>\n",
       "      <td>1.593696e+18</td>\n",
       "      <td>-6.789450</td>\n",
       "      <td>-6.934490</td>\n",
       "      <td>-0.668424</td>\n",
       "      <td>4.574320</td>\n",
       "      <td>0.002052</td>\n",
       "      <td>0.003222</td>\n",
       "      <td>0.030982</td>\n",
       "      <td>17.885900</td>\n",
       "      <td>0.221982</td>\n",
       "      <td>0.231480</td>\n",
       "      <td>0.553206</td>\n",
       "      <td>14.000000</td>\n",
       "      <td>0.000000</td>\n",
       "    </tr>\n",
       "    <tr>\n",
       "      <th>25%</th>\n",
       "      <td>1.593697e+18</td>\n",
       "      <td>-4.274203</td>\n",
       "      <td>-0.751689</td>\n",
       "      <td>-0.155357</td>\n",
       "      <td>10.179050</td>\n",
       "      <td>0.005912</td>\n",
       "      <td>0.008246</td>\n",
       "      <td>0.072872</td>\n",
       "      <td>43.546750</td>\n",
       "      <td>0.333899</td>\n",
       "      <td>0.388073</td>\n",
       "      <td>0.985873</td>\n",
       "      <td>25.000000</td>\n",
       "      <td>30.153700</td>\n",
       "    </tr>\n",
       "    <tr>\n",
       "      <th>50%</th>\n",
       "      <td>1.593697e+18</td>\n",
       "      <td>-2.358050</td>\n",
       "      <td>0.489427</td>\n",
       "      <td>-0.022124</td>\n",
       "      <td>11.949200</td>\n",
       "      <td>0.007586</td>\n",
       "      <td>0.012270</td>\n",
       "      <td>0.115192</td>\n",
       "      <td>97.380450</td>\n",
       "      <td>0.416868</td>\n",
       "      <td>0.499582</td>\n",
       "      <td>1.207195</td>\n",
       "      <td>37.000000</td>\n",
       "      <td>405.247000</td>\n",
       "    </tr>\n",
       "    <tr>\n",
       "      <th>75%</th>\n",
       "      <td>1.593697e+18</td>\n",
       "      <td>1.683220</td>\n",
       "      <td>4.216732</td>\n",
       "      <td>0.057866</td>\n",
       "      <td>32.018550</td>\n",
       "      <td>0.011884</td>\n",
       "      <td>0.018363</td>\n",
       "      <td>0.140517</td>\n",
       "      <td>224.314500</td>\n",
       "      <td>0.515455</td>\n",
       "      <td>0.598096</td>\n",
       "      <td>1.345930</td>\n",
       "      <td>69.250000</td>\n",
       "      <td>1120.340000</td>\n",
       "    </tr>\n",
       "    <tr>\n",
       "      <th>max</th>\n",
       "      <td>1.593793e+18</td>\n",
       "      <td>4.370490</td>\n",
       "      <td>6.351930</td>\n",
       "      <td>0.479867</td>\n",
       "      <td>62.255300</td>\n",
       "      <td>0.251095</td>\n",
       "      <td>0.159335</td>\n",
       "      <td>0.279942</td>\n",
       "      <td>1065.040000</td>\n",
       "      <td>1.845890</td>\n",
       "      <td>1.988950</td>\n",
       "      <td>1.661640</td>\n",
       "      <td>100.000000</td>\n",
       "      <td>1629.610000</td>\n",
       "    </tr>\n",
       "  </tbody>\n",
       "</table>\n",
       "</div>"
      ],
      "text/plain": [
       "              Stamp        MeanX       MreanY        MeanZ        MeanI  \\\n",
       "count  2.324000e+03  2324.000000  2324.000000  2324.000000  2324.000000   \n",
       "mean   1.593700e+18    -1.646874     1.013887    -0.027388    21.114438   \n",
       "std    1.667798e+13     3.188470     2.763491     0.142807    12.851785   \n",
       "min    1.593696e+18    -6.789450    -6.934490    -0.668424     4.574320   \n",
       "25%    1.593697e+18    -4.274203    -0.751689    -0.155357    10.179050   \n",
       "50%    1.593697e+18    -2.358050     0.489427    -0.022124    11.949200   \n",
       "75%    1.593697e+18     1.683220     4.216732     0.057866    32.018550   \n",
       "max    1.593793e+18     4.370490     6.351930     0.479867    62.255300   \n",
       "\n",
       "              VarX         VarY         VarZ         VarI       RangeX  \\\n",
       "count  2324.000000  2324.000000  2324.000000  2324.000000  2324.000000   \n",
       "mean      0.010110     0.014162     0.108754   181.642438     0.448857   \n",
       "std       0.009565     0.009354     0.038165   199.822858     0.162543   \n",
       "min       0.002052     0.003222     0.030982    17.885900     0.221982   \n",
       "25%       0.005912     0.008246     0.072872    43.546750     0.333899   \n",
       "50%       0.007586     0.012270     0.115192    97.380450     0.416868   \n",
       "75%       0.011884     0.018363     0.140517   224.314500     0.515455   \n",
       "max       0.251095     0.159335     0.279942  1065.040000     1.845890   \n",
       "\n",
       "            RangeY       RangeZ       RangeI  SafetyIndex  \n",
       "count  2324.000000  2324.000000  2324.000000  2324.000000  \n",
       "mean      0.520696     1.158931    49.970310   624.893181  \n",
       "std       0.186558     0.192854    27.569729   532.090253  \n",
       "min       0.231480     0.553206    14.000000     0.000000  \n",
       "25%       0.388073     0.985873    25.000000    30.153700  \n",
       "50%       0.499582     1.207195    37.000000   405.247000  \n",
       "75%       0.598096     1.345930    69.250000  1120.340000  \n",
       "max       1.988950     1.661640   100.000000  1629.610000  "
      ]
     },
     "execution_count": 5,
     "metadata": {},
     "output_type": "execute_result"
    }
   ],
   "source": [
    "df.describe()"
   ]
  },
  {
   "cell_type": "code",
   "execution_count": 6,
   "metadata": {},
   "outputs": [],
   "source": [
    "labels = df['SafetyIndex']"
   ]
  },
  {
   "cell_type": "code",
   "execution_count": 7,
   "metadata": {},
   "outputs": [],
   "source": [
    "df = df.drop(['SafetyIndex'], axis=1)"
   ]
  },
  {
   "cell_type": "code",
   "execution_count": 8,
   "metadata": {},
   "outputs": [
    {
     "data": {
      "text/plain": [
       "Index(['OriginalID', 'Stamp', 'LabeledId', 'MeanX', 'MreanY', ' MeanZ',\n",
       "       ' MeanI', ' VarX', ' VarY', ' VarZ', ' VarI', ' RangeX', ' RangeY',\n",
       "       ' RangeZ', ' RangeI'],\n",
       "      dtype='object')"
      ]
     },
     "execution_count": 8,
     "metadata": {},
     "output_type": "execute_result"
    }
   ],
   "source": [
    "df.columns"
   ]
  },
  {
   "cell_type": "code",
   "execution_count": 9,
   "metadata": {},
   "outputs": [],
   "source": [
    "df = df.drop(['OriginalID'], axis=1)"
   ]
  },
  {
   "cell_type": "code",
   "execution_count": 10,
   "metadata": {},
   "outputs": [],
   "source": [
    "df = df.drop(['LabeledId'], axis=1)"
   ]
  },
  {
   "cell_type": "code",
   "execution_count": 11,
   "metadata": {},
   "outputs": [],
   "source": [
    "df = df.drop(['Stamp'], axis=1)"
   ]
  },
  {
   "cell_type": "code",
   "execution_count": 12,
   "metadata": {},
   "outputs": [
    {
     "data": {
      "text/plain": [
       "Index(['MeanX', 'MreanY', ' MeanZ', ' MeanI', ' VarX', ' VarY', ' VarZ',\n",
       "       ' VarI', ' RangeX', ' RangeY', ' RangeZ', ' RangeI'],\n",
       "      dtype='object')"
      ]
     },
     "execution_count": 12,
     "metadata": {},
     "output_type": "execute_result"
    }
   ],
   "source": [
    "df.columns"
   ]
  },
  {
   "cell_type": "markdown",
   "metadata": {},
   "source": [
    "Plot data examples"
   ]
  },
  {
   "cell_type": "code",
   "execution_count": 13,
   "metadata": {},
   "outputs": [],
   "source": [
    "import matplotlib.pyplot as plt\n",
    "import random\n",
    "import numpy as np"
   ]
  },
  {
   "cell_type": "code",
   "execution_count": 14,
   "metadata": {},
   "outputs": [],
   "source": [
    "samples = df#[:1000]"
   ]
  },
  {
   "cell_type": "code",
   "execution_count": 276,
   "metadata": {},
   "outputs": [],
   "source": [
    "lsamples = labels#[:1000]"
   ]
  },
  {
   "cell_type": "code",
   "execution_count": 16,
   "metadata": {},
   "outputs": [
    {
     "data": {
      "text/html": [
       "<div>\n",
       "<style scoped>\n",
       "    .dataframe tbody tr th:only-of-type {\n",
       "        vertical-align: middle;\n",
       "    }\n",
       "\n",
       "    .dataframe tbody tr th {\n",
       "        vertical-align: top;\n",
       "    }\n",
       "\n",
       "    .dataframe thead th {\n",
       "        text-align: right;\n",
       "    }\n",
       "</style>\n",
       "<table border=\"1\" class=\"dataframe\">\n",
       "  <thead>\n",
       "    <tr style=\"text-align: right;\">\n",
       "      <th></th>\n",
       "      <th>MeanX</th>\n",
       "      <th>MreanY</th>\n",
       "      <th>MeanZ</th>\n",
       "    </tr>\n",
       "  </thead>\n",
       "  <tbody>\n",
       "    <tr>\n",
       "      <th>0</th>\n",
       "      <td>2.160700</td>\n",
       "      <td>-1.51747</td>\n",
       "      <td>0.009536</td>\n",
       "    </tr>\n",
       "    <tr>\n",
       "      <th>1</th>\n",
       "      <td>2.105680</td>\n",
       "      <td>-1.42697</td>\n",
       "      <td>0.000821</td>\n",
       "    </tr>\n",
       "    <tr>\n",
       "      <th>2</th>\n",
       "      <td>2.047420</td>\n",
       "      <td>-1.34319</td>\n",
       "      <td>0.001883</td>\n",
       "    </tr>\n",
       "    <tr>\n",
       "      <th>3</th>\n",
       "      <td>2.037300</td>\n",
       "      <td>-1.27878</td>\n",
       "      <td>0.030707</td>\n",
       "    </tr>\n",
       "    <tr>\n",
       "      <th>4</th>\n",
       "      <td>2.009390</td>\n",
       "      <td>-1.23015</td>\n",
       "      <td>0.018220</td>\n",
       "    </tr>\n",
       "    <tr>\n",
       "      <th>...</th>\n",
       "      <td>...</td>\n",
       "      <td>...</td>\n",
       "      <td>...</td>\n",
       "    </tr>\n",
       "    <tr>\n",
       "      <th>2319</th>\n",
       "      <td>0.541043</td>\n",
       "      <td>-2.05759</td>\n",
       "      <td>0.095259</td>\n",
       "    </tr>\n",
       "    <tr>\n",
       "      <th>2320</th>\n",
       "      <td>0.394720</td>\n",
       "      <td>-2.09440</td>\n",
       "      <td>0.033947</td>\n",
       "    </tr>\n",
       "    <tr>\n",
       "      <th>2321</th>\n",
       "      <td>-0.422682</td>\n",
       "      <td>-2.13800</td>\n",
       "      <td>0.045908</td>\n",
       "    </tr>\n",
       "    <tr>\n",
       "      <th>2322</th>\n",
       "      <td>-0.467735</td>\n",
       "      <td>-2.14999</td>\n",
       "      <td>0.081785</td>\n",
       "    </tr>\n",
       "    <tr>\n",
       "      <th>2323</th>\n",
       "      <td>-1.007580</td>\n",
       "      <td>-1.74677</td>\n",
       "      <td>0.061612</td>\n",
       "    </tr>\n",
       "  </tbody>\n",
       "</table>\n",
       "<p>2324 rows × 3 columns</p>\n",
       "</div>"
      ],
      "text/plain": [
       "         MeanX   MreanY     MeanZ\n",
       "0     2.160700 -1.51747  0.009536\n",
       "1     2.105680 -1.42697  0.000821\n",
       "2     2.047420 -1.34319  0.001883\n",
       "3     2.037300 -1.27878  0.030707\n",
       "4     2.009390 -1.23015  0.018220\n",
       "...        ...      ...       ...\n",
       "2319  0.541043 -2.05759  0.095259\n",
       "2320  0.394720 -2.09440  0.033947\n",
       "2321 -0.422682 -2.13800  0.045908\n",
       "2322 -0.467735 -2.14999  0.081785\n",
       "2323 -1.007580 -1.74677  0.061612\n",
       "\n",
       "[2324 rows x 3 columns]"
      ]
     },
     "execution_count": 16,
     "metadata": {},
     "output_type": "execute_result"
    }
   ],
   "source": [
    "samples.iloc[:,0:3]"
   ]
  },
  {
   "cell_type": "code",
   "execution_count": 17,
   "metadata": {},
   "outputs": [],
   "source": [
    "samplescenters = samples.iloc[:,0:3]"
   ]
  },
  {
   "cell_type": "code",
   "execution_count": 18,
   "metadata": {},
   "outputs": [],
   "source": [
    "samplescenters = samplescenters.to_numpy()\n",
    "lsamples = lsamples.to_numpy()"
   ]
  },
  {
   "cell_type": "code",
   "execution_count": 19,
   "metadata": {},
   "outputs": [
    {
     "data": {
      "text/plain": [
       "<matplotlib.collections.PathCollection at 0x7f779f82f198>"
      ]
     },
     "execution_count": 19,
     "metadata": {},
     "output_type": "execute_result"
    },
    {
     "data": {
      "image/png": "[encoded data removed]",
      "text/plain": [
       "<Figure size 432x288 with 1 Axes>"
      ]
     },
     "metadata": {
      "needs_background": "light"
     },
     "output_type": "display_data"
    }
   ],
   "source": [
    "plt.scatter(samplescenters[:,0], samplescenters[:,1], c=lsamples, cmap='hot')"
   ]
  },
  {
   "cell_type": "code",
   "execution_count": 20,
   "metadata": {},
   "outputs": [
    {
     "data": {
      "text/plain": [
       "<mpl_toolkits.mplot3d.art3d.Path3DCollection at 0x7f779f714f60>"
      ]
     },
     "execution_count": 20,
     "metadata": {},
     "output_type": "execute_result"
    },
    {
     "data": {
      "image/png": "[encoded data removed]",
      "text/plain": [
       "<Figure size 432x288 with 1 Axes>"
      ]
     },
     "metadata": {
      "needs_background": "light"
     },
     "output_type": "display_data"
    }
   ],
   "source": [
    "from mpl_toolkits.mplot3d import Axes3D  # noqa: F401 unused import\n",
    "fig = plt.figure()\n",
    "ax = fig.add_subplot(111, projection='3d')\n",
    "ax.scatter(samplescenters[:,0], samplescenters[:,1], samplescenters[:,2], c=lsamples, cmap='hot')"
   ]
  },
  {
   "cell_type": "markdown",
   "metadata": {},
   "source": [
    "Logistic Regression"
   ]
  },
  {
   "cell_type": "code",
   "execution_count": 22,
   "metadata": {},
   "outputs": [],
   "source": [
    "from sklearn.model_selection import train_test_split \n",
    "from sklearn.linear_model import LogisticRegression\n",
    "from sklearn import metrics\n",
    "import seaborn as seabornInstance "
   ]
  },
  {
   "cell_type": "code",
   "execution_count": 275,
   "metadata": {},
   "outputs": [
    {
     "data": {
      "text/plain": [
       "<matplotlib.axes._subplots.AxesSubplot at 0x7f7798ad2e48>"
      ]
     },
     "execution_count": 275,
     "metadata": {},
     "output_type": "execute_result"
    },
    {
     "data": {
      "image/png": "[encoded data removed]",
      "text/plain": [
       "<Figure size 720x360 with 1 Axes>"
      ]
     },
     "metadata": {
      "needs_background": "light"
     },
     "output_type": "display_data"
    }
   ],
   "source": [
    "plt.figure(figsize=(10,5))\n",
    "plt.tight_layout()\n",
    "seabornInstance.distplot(labels)\n"
   ]
  },
  {
   "cell_type": "code",
   "execution_count": 341,
   "metadata": {},
   "outputs": [
    {
     "data": {
      "text/plain": [
       "\"\\nplt.figure(figsize=(10,5))\\nplt.tight_layout()\\nseabornInstance.distplot(df['MeanX'])\\nplt.figure(figsize=(10,5))\\nplt.tight_layout()\\nseabornInstance.distplot(df['MreanY'])\\nplt.figure(figsize=(10,5))\\nplt.tight_layout()\\nseabornInstance.distplot(df[' MeanZ'])\\n\""
      ]
     },
     "execution_count": 341,
     "metadata": {},
     "output_type": "execute_result"
    }
   ],
   "source": [
    "\"\"\"\n",
    "plt.figure(figsize=(10,5))\n",
    "plt.tight_layout()\n",
    "seabornInstance.distplot(df['MeanX'])\n",
    "plt.figure(figsize=(10,5))\n",
    "plt.tight_layout()\n",
    "seabornInstance.distplot(df['MreanY'])\n",
    "plt.figure(figsize=(10,5))\n",
    "plt.tight_layout()\n",
    "seabornInstance.distplot(df[' MeanZ'])\n",
    "\"\"\""
   ]
  },
  {
   "cell_type": "code",
   "execution_count": 342,
   "metadata": {},
   "outputs": [],
   "source": [
    "from sklearn import preprocessing"
   ]
  },
  {
   "cell_type": "code",
   "execution_count": 300,
   "metadata": {},
   "outputs": [],
   "source": [
    "#blsamples = np.where(lsamples < 520, 0,1 )\n",
    "#plt.figure(figsize=(10,5))\n",
    "#plt.tight_layout()\n",
    "#seabornInstance.distplot(blsamples)"
   ]
  },
  {
   "cell_type": "code",
   "execution_count": 678,
   "metadata": {},
   "outputs": [],
   "source": [
    "#rlsamples = preprocessing.StandardScaler().fit_transform(lsamples)\n",
    "rlsamples = np.where(lsamples>500, 0,1)\n",
    "#le = preprocessing.LabelEncoder().fit(rlsamples)"
   ]
  },
  {
   "cell_type": "code",
   "execution_count": 679,
   "metadata": {},
   "outputs": [],
   "source": [
    "X_train, X_test, y_train, y_test = train_test_split(samples, rlsamples, test_size=0.2, random_state=0)"
   ]
  },
  {
   "cell_type": "code",
   "execution_count": 523,
   "metadata": {},
   "outputs": [],
   "source": [
    "#y_train = le.transform(y_train)\n",
    "#y_test = le.transform(y_test)"
   ]
  },
  {
   "cell_type": "code",
   "execution_count": 680,
   "metadata": {},
   "outputs": [],
   "source": [
    "X_train =preprocessing.StandardScaler().fit_transform(X_train)\n",
    "X_test = preprocessing.StandardScaler().fit_transform(X_test)"
   ]
  },
  {
   "cell_type": "code",
   "execution_count": 681,
   "metadata": {},
   "outputs": [],
   "source": [
    "regressor = LogisticRegression(max_iter=1000, C=0.20,verbose=3,n_jobs=6, penalty='l2')#, solver='saga')"
   ]
  },
  {
   "cell_type": "code",
   "execution_count": 627,
   "metadata": {},
   "outputs": [],
   "source": [
    "LogisticRegression?"
   ]
  },
  {
   "cell_type": "code",
   "execution_count": 682,
   "metadata": {},
   "outputs": [
    {
     "data": {
      "text/plain": [
       "array([0, 1])"
      ]
     },
     "execution_count": 682,
     "metadata": {},
     "output_type": "execute_result"
    }
   ],
   "source": [
    "np.unique(rlsamples)"
   ]
  },
  {
   "cell_type": "code",
   "execution_count": 683,
   "metadata": {},
   "outputs": [
    {
     "name": "stderr",
     "output_type": "stream",
     "text": [
      "[Parallel(n_jobs=6)]: Using backend LokyBackend with 6 concurrent workers.\n",
      "[Parallel(n_jobs=6)]: Done   1 out of   1 | elapsed:    0.0s finished\n"
     ]
    },
    {
     "data": {
      "text/plain": [
       "LogisticRegression(C=0.2, max_iter=1000, n_jobs=6, verbose=3)"
      ]
     },
     "execution_count": 683,
     "metadata": {},
     "output_type": "execute_result"
    }
   ],
   "source": [
    "#potential overfitting\n",
    "regressor.fit(X_train, y_train) #training the algorithm"
   ]
  },
  {
   "cell_type": "code",
   "execution_count": 684,
   "metadata": {},
   "outputs": [],
   "source": [
    "y_pred = regressor.predict(X_test)"
   ]
  },
  {
   "cell_type": "code",
   "execution_count": 685,
   "metadata": {},
   "outputs": [],
   "source": [
    "df2 = pd.DataFrame({'Actual': y_test, 'Predicted': y_pred})\n",
    "#df2"
   ]
  },
  {
   "cell_type": "code",
   "execution_count": 265,
   "metadata": {},
   "outputs": [],
   "source": [
    "#testcenters = X_test#.to_numpy()\n",
    "#predictedlabels = y_pred"
   ]
  },
  {
   "cell_type": "code",
   "execution_count": 686,
   "metadata": {},
   "outputs": [
    {
     "data": {
      "text/plain": [
       "<matplotlib.collections.PathCollection at 0x7f7795e5b9e8>"
      ]
     },
     "execution_count": 686,
     "metadata": {},
     "output_type": "execute_result"
    },
    {
     "data": {
      "image/png": "[encoded data removed]",
      "text/plain": [
       "<Figure size 432x288 with 1 Axes>"
      ]
     },
     "metadata": {
      "needs_background": "light"
     },
     "output_type": "display_data"
    }
   ],
   "source": [
    "plt.scatter(X_test[:,0], X_test[:,1], c=y_pred, cmap='cool')"
   ]
  },
  {
   "cell_type": "code",
   "execution_count": 687,
   "metadata": {},
   "outputs": [
    {
     "data": {
      "image/png": "[encoded data removed]",
      "text/plain": [
       "<Figure size 720x288 with 1 Axes>"
      ]
     },
     "metadata": {
      "needs_background": "light"
     },
     "output_type": "display_data"
    }
   ],
   "source": [
    "df3 = df2.head(50)\n",
    "df3.plot(kind='bar',figsize=(10,4))\n",
    "plt.grid(which='major', linestyle='-', linewidth='0.5', color='green')\n",
    "plt.grid(which='minor', linestyle=':', linewidth='0.5', color='black')\n",
    "plt.show()"
   ]
  },
  {
   "cell_type": "code",
   "execution_count": 688,
   "metadata": {},
   "outputs": [
    {
     "data": {
      "image/png": "[encoded data removed]",
      "text/plain": [
       "<Figure size 432x288 with 1 Axes>"
      ]
     },
     "metadata": {
      "needs_background": "light"
     },
     "output_type": "display_data"
    },
    {
     "data": {
      "image/png": "[encoded data removed]",
      "text/plain": [
       "<Figure size 432x288 with 1 Axes>"
      ]
     },
     "metadata": {
      "needs_background": "light"
     },
     "output_type": "display_data"
    }
   ],
   "source": [
    "#plt.scatter(X_test, y_test,  color='gray')\n",
    "plt.figure()\n",
    "plt.title(\"Prediction Map\")\n",
    "plt.scatter(X_test[:,0], X_test[:,1], c=y_pred, cmap='cool')\n",
    "plt.figure()\n",
    "plt.title(\"Labeled Map\")\n",
    "plt.scatter(X_test[:,0], X_test[:,1], c=y_test, cmap='cool')\n",
    "plt.show()"
   ]
  },
  {
   "cell_type": "code",
   "execution_count": 689,
   "metadata": {},
   "outputs": [
    {
     "name": "stdout",
     "output_type": "stream",
     "text": [
      "Accuracy: 0.8258064516129032\n",
      "Mean Absolue Error: 0.0\n",
      "Root Mean Squared Error: 0.41736500618415145\n"
     ]
    }
   ],
   "source": [
    "print('Accuracy:', metrics.accuracy_score(y_test, y_pred))  \n",
    "print('Mean Absolue Error:', metrics.median_absolute_error(y_test, y_pred))  \n",
    "print('Root Mean Squared Error:', np.sqrt(metrics.mean_squared_error(y_test, y_pred)))"
   ]
  }
 ],
 "metadata": {
  "kernelspec": {
   "display_name": "Python 3",
   "language": "python",
   "name": "python3"
  },
  "language_info": {
   "codemirror_mode": {
    "name": "ipython",
    "version": 3
   },
   "file_extension": ".py",
   "mimetype": "text/x-python",
   "name": "python",
   "nbconvert_exporter": "python",
   "pygments_lexer": "ipython3",
   "version": "3.7.3"
  }
 },
 "nbformat": 4,
 "nbformat_minor": 2
}
