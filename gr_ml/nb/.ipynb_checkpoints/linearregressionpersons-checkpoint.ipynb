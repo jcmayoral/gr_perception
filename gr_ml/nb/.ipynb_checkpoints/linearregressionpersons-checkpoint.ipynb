{
 "cells": [
  {
   "cell_type": "markdown",
   "metadata": {},
   "source": [
    "Load data"
   ]
  },
  {
   "cell_type": "code",
   "execution_count": 1,
   "metadata": {},
   "outputs": [],
   "source": [
    "import pandas as pd"
   ]
  },
  {
   "cell_type": "code",
   "execution_count": 17,
   "metadata": {},
   "outputs": [],
   "source": [
    "df = pd.read_csv(\"/media/person_data.csv\")"
   ]
  },
  {
   "cell_type": "code",
   "execution_count": 18,
   "metadata": {
    "scrolled": true
   },
   "outputs": [
    {
     "data": {
      "text/html": [
       "<div>\n",
       "<style scoped>\n",
       "    .dataframe tbody tr th:only-of-type {\n",
       "        vertical-align: middle;\n",
       "    }\n",
       "\n",
       "    .dataframe tbody tr th {\n",
       "        vertical-align: top;\n",
       "    }\n",
       "\n",
       "    .dataframe thead th {\n",
       "        text-align: right;\n",
       "    }\n",
       "</style>\n",
       "<table border=\"1\" class=\"dataframe\">\n",
       "  <thead>\n",
       "    <tr style=\"text-align: right;\">\n",
       "      <th></th>\n",
       "      <th>OriginalID</th>\n",
       "      <th>Stamp</th>\n",
       "      <th>LabeledId</th>\n",
       "      <th>MeanX</th>\n",
       "      <th>MreanY</th>\n",
       "      <th>MeanZ</th>\n",
       "      <th>MeanI</th>\n",
       "      <th>VarX</th>\n",
       "      <th>VarY</th>\n",
       "      <th>VarZ</th>\n",
       "      <th>VarI</th>\n",
       "      <th>RangeX</th>\n",
       "      <th>RangeY</th>\n",
       "      <th>RangeZ</th>\n",
       "      <th>RangeI</th>\n",
       "      <th>SafetyIndex</th>\n",
       "    </tr>\n",
       "  </thead>\n",
       "  <tbody>\n",
       "    <tr>\n",
       "      <th>0</th>\n",
       "      <td>person_BGV160</td>\n",
       "      <td>1.593697e+18</td>\n",
       "      <td>person_CHW026</td>\n",
       "      <td>2.16070</td>\n",
       "      <td>-1.51747</td>\n",
       "      <td>0.009536</td>\n",
       "      <td>25.7358</td>\n",
       "      <td>0.017539</td>\n",
       "      <td>0.008052</td>\n",
       "      <td>0.070805</td>\n",
       "      <td>161.762</td>\n",
       "      <td>0.580519</td>\n",
       "      <td>0.501747</td>\n",
       "      <td>0.962191</td>\n",
       "      <td>53</td>\n",
       "      <td>691.907</td>\n",
       "    </tr>\n",
       "    <tr>\n",
       "      <th>1</th>\n",
       "      <td>person_BGV160</td>\n",
       "      <td>1.593697e+18</td>\n",
       "      <td>person_CHW026</td>\n",
       "      <td>2.10568</td>\n",
       "      <td>-1.42697</td>\n",
       "      <td>0.000821</td>\n",
       "      <td>26.6586</td>\n",
       "      <td>0.016780</td>\n",
       "      <td>0.010158</td>\n",
       "      <td>0.067378</td>\n",
       "      <td>157.341</td>\n",
       "      <td>0.549305</td>\n",
       "      <td>0.558436</td>\n",
       "      <td>0.929846</td>\n",
       "      <td>53</td>\n",
       "      <td>691.907</td>\n",
       "    </tr>\n",
       "    <tr>\n",
       "      <th>2</th>\n",
       "      <td>person_BGV160</td>\n",
       "      <td>1.593697e+18</td>\n",
       "      <td>person_CHW026</td>\n",
       "      <td>2.04742</td>\n",
       "      <td>-1.34319</td>\n",
       "      <td>0.001883</td>\n",
       "      <td>25.0231</td>\n",
       "      <td>0.031696</td>\n",
       "      <td>0.012176</td>\n",
       "      <td>0.077002</td>\n",
       "      <td>185.470</td>\n",
       "      <td>1.073560</td>\n",
       "      <td>0.886896</td>\n",
       "      <td>1.049920</td>\n",
       "      <td>53</td>\n",
       "      <td>691.907</td>\n",
       "    </tr>\n",
       "    <tr>\n",
       "      <th>3</th>\n",
       "      <td>person_BGV160</td>\n",
       "      <td>1.593697e+18</td>\n",
       "      <td>person_CHW026</td>\n",
       "      <td>2.03730</td>\n",
       "      <td>-1.27878</td>\n",
       "      <td>0.030707</td>\n",
       "      <td>25.9707</td>\n",
       "      <td>0.024252</td>\n",
       "      <td>0.008819</td>\n",
       "      <td>0.073974</td>\n",
       "      <td>148.507</td>\n",
       "      <td>1.022480</td>\n",
       "      <td>0.517114</td>\n",
       "      <td>1.006430</td>\n",
       "      <td>52</td>\n",
       "      <td>691.907</td>\n",
       "    </tr>\n",
       "    <tr>\n",
       "      <th>4</th>\n",
       "      <td>person_BGV160</td>\n",
       "      <td>1.593697e+18</td>\n",
       "      <td>person_CHW026</td>\n",
       "      <td>2.00939</td>\n",
       "      <td>-1.23015</td>\n",
       "      <td>0.018220</td>\n",
       "      <td>26.5070</td>\n",
       "      <td>0.022890</td>\n",
       "      <td>0.009475</td>\n",
       "      <td>0.086418</td>\n",
       "      <td>155.662</td>\n",
       "      <td>0.981035</td>\n",
       "      <td>0.661598</td>\n",
       "      <td>1.103300</td>\n",
       "      <td>53</td>\n",
       "      <td>1251.220</td>\n",
       "    </tr>\n",
       "  </tbody>\n",
       "</table>\n",
       "</div>"
      ],
      "text/plain": [
       "      OriginalID         Stamp      LabeledId    MeanX   MreanY     MeanZ  \\\n",
       "0  person_BGV160  1.593697e+18  person_CHW026  2.16070 -1.51747  0.009536   \n",
       "1  person_BGV160  1.593697e+18  person_CHW026  2.10568 -1.42697  0.000821   \n",
       "2  person_BGV160  1.593697e+18  person_CHW026  2.04742 -1.34319  0.001883   \n",
       "3  person_BGV160  1.593697e+18  person_CHW026  2.03730 -1.27878  0.030707   \n",
       "4  person_BGV160  1.593697e+18  person_CHW026  2.00939 -1.23015  0.018220   \n",
       "\n",
       "     MeanI      VarX      VarY      VarZ     VarI    RangeX    RangeY  \\\n",
       "0  25.7358  0.017539  0.008052  0.070805  161.762  0.580519  0.501747   \n",
       "1  26.6586  0.016780  0.010158  0.067378  157.341  0.549305  0.558436   \n",
       "2  25.0231  0.031696  0.012176  0.077002  185.470  1.073560  0.886896   \n",
       "3  25.9707  0.024252  0.008819  0.073974  148.507  1.022480  0.517114   \n",
       "4  26.5070  0.022890  0.009475  0.086418  155.662  0.981035  0.661598   \n",
       "\n",
       "     RangeZ   RangeI  SafetyIndex  \n",
       "0  0.962191       53      691.907  \n",
       "1  0.929846       53      691.907  \n",
       "2  1.049920       53      691.907  \n",
       "3  1.006430       52      691.907  \n",
       "4  1.103300       53     1251.220  "
      ]
     },
     "execution_count": 18,
     "metadata": {},
     "output_type": "execute_result"
    }
   ],
   "source": [
    "df.head()"
   ]
  },
  {
   "cell_type": "code",
   "execution_count": 19,
   "metadata": {},
   "outputs": [
    {
     "data": {
      "text/plain": [
       "Index(['OriginalID', 'Stamp', 'LabeledId', 'MeanX', 'MreanY', ' MeanZ',\n",
       "       ' MeanI', ' VarX', ' VarY', ' VarZ', ' VarI', ' RangeX', ' RangeY',\n",
       "       ' RangeZ', ' RangeI', 'SafetyIndex'],\n",
       "      dtype='object')"
      ]
     },
     "execution_count": 19,
     "metadata": {},
     "output_type": "execute_result"
    }
   ],
   "source": [
    "df.columns"
   ]
  },
  {
   "cell_type": "code",
   "execution_count": 20,
   "metadata": {},
   "outputs": [],
   "source": [
    "labels = df['SafetyIndex']"
   ]
  },
  {
   "cell_type": "code",
   "execution_count": 21,
   "metadata": {},
   "outputs": [],
   "source": [
    "df = df.drop(['SafetyIndex'], axis=1)"
   ]
  },
  {
   "cell_type": "code",
   "execution_count": 22,
   "metadata": {},
   "outputs": [
    {
     "data": {
      "text/plain": [
       "Index(['OriginalID', 'Stamp', 'LabeledId', 'MeanX', 'MreanY', ' MeanZ',\n",
       "       ' MeanI', ' VarX', ' VarY', ' VarZ', ' VarI', ' RangeX', ' RangeY',\n",
       "       ' RangeZ', ' RangeI'],\n",
       "      dtype='object')"
      ]
     },
     "execution_count": 22,
     "metadata": {},
     "output_type": "execute_result"
    }
   ],
   "source": [
    "df.columns"
   ]
  },
  {
   "cell_type": "markdown",
   "metadata": {},
   "source": [
    "Plot data examples"
   ]
  },
  {
   "cell_type": "code",
   "execution_count": 61,
   "metadata": {},
   "outputs": [],
   "source": [
    "import matplotlib.pyplot as plt\n",
    "import random"
   ]
  },
  {
   "cell_type": "code",
   "execution_count": 68,
   "metadata": {},
   "outputs": [],
   "source": [
    "samples = df#[:1000]"
   ]
  },
  {
   "cell_type": "code",
   "execution_count": 69,
   "metadata": {},
   "outputs": [],
   "source": [
    "lsamples = labels#[:1000]"
   ]
  },
  {
   "cell_type": "code",
   "execution_count": 70,
   "metadata": {},
   "outputs": [],
   "source": [
    "samplescenters = samples.iloc[:,3:6]"
   ]
  },
  {
   "cell_type": "code",
   "execution_count": 71,
   "metadata": {},
   "outputs": [],
   "source": [
    "samplescenters = samplescenters.to_numpy()\n",
    "lsamples = lsamples.to_numpy()"
   ]
  },
  {
   "cell_type": "code",
   "execution_count": 73,
   "metadata": {},
   "outputs": [
    {
     "data": {
      "text/plain": [
       "<matplotlib.collections.PathCollection at 0x7f167a07d6d8>"
      ]
     },
     "execution_count": 73,
     "metadata": {},
     "output_type": "execute_result"
    },
    {
     "data": {
      "image/png": "[encoded data removed]",
      "text/plain": [
       "<Figure size 432x288 with 1 Axes>"
      ]
     },
     "metadata": {
      "needs_background": "light"
     },
     "output_type": "display_data"
    }
   ],
   "source": [
    "plt.scatter(samplescenters[:,0], samplescenters[:,1], c=lsamples, cmap='hot')"
   ]
  },
  {
   "cell_type": "code",
   "execution_count": null,
   "metadata": {},
   "outputs": [],
   "source": []
  }
 ],
 "metadata": {
  "kernelspec": {
   "display_name": "Python 3",
   "language": "python",
   "name": "python3"
  },
  "language_info": {
   "codemirror_mode": {
    "name": "ipython",
    "version": 3
   },
   "file_extension": ".py",
   "mimetype": "text/x-python",
   "name": "python",
   "nbconvert_exporter": "python",
   "pygments_lexer": "ipython3",
   "version": "3.7.3"
  }
 },
 "nbformat": 4,
 "nbformat_minor": 2
}
