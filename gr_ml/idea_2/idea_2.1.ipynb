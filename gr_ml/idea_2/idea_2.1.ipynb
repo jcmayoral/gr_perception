{
 "cells": [
  {
   "cell_type": "code",
   "execution_count": 1,
   "id": "2503c145",
   "metadata": {},
   "outputs": [
    {
     "name": "stdout",
     "output_type": "stream",
     "text": [
      "/home/jose/anaconda3/envs/test/bin/python\r\n"
     ]
    }
   ],
   "source": [
    "!which python"
   ]
  },
  {
   "cell_type": "code",
   "execution_count": 2,
   "id": "67457d7c",
   "metadata": {},
   "outputs": [],
   "source": [
    "import torch\n",
    "import torchvision\n",
    "import torchvision.transforms as transforms\n"
   ]
  },
  {
   "cell_type": "code",
   "execution_count": 3,
   "id": "e9002982",
   "metadata": {},
   "outputs": [
    {
     "name": "stdout",
     "output_type": "stream",
     "text": [
      "Using cuda device\n"
     ]
    }
   ],
   "source": [
    "device = 'cuda' if torch.cuda.is_available() else 'cpu'\n",
    "print('Using {} device'.format(device))"
   ]
  },
  {
   "cell_type": "code",
   "execution_count": 4,
   "id": "e5a6e310",
   "metadata": {},
   "outputs": [],
   "source": [
    "transform = transforms.Compose(\n",
    "    [transforms.ToTensor(),\n",
    "     transforms.Normalize((0.5, 0.5, 0.5), (0.5, 0.5, 0.5))])\n"
   ]
  },
  {
   "cell_type": "code",
   "execution_count": 5,
   "id": "7afead72",
   "metadata": {},
   "outputs": [],
   "source": [
    "import pandas as pd"
   ]
  },
  {
   "cell_type": "code",
   "execution_count": 6,
   "id": "1d791762",
   "metadata": {},
   "outputs": [],
   "source": [
    "my_data = pd.read_csv('my_data/fake_data.csv')"
   ]
  },
  {
   "cell_type": "code",
   "execution_count": 7,
   "id": "18120f3d",
   "metadata": {},
   "outputs": [
    {
     "data": {
      "text/html": [
       "<div>\n",
       "<style scoped>\n",
       "    .dataframe tbody tr th:only-of-type {\n",
       "        vertical-align: middle;\n",
       "    }\n",
       "\n",
       "    .dataframe tbody tr th {\n",
       "        vertical-align: top;\n",
       "    }\n",
       "\n",
       "    .dataframe thead th {\n",
       "        text-align: right;\n",
       "    }\n",
       "</style>\n",
       "<table border=\"1\" class=\"dataframe\">\n",
       "  <thead>\n",
       "    <tr style=\"text-align: right;\">\n",
       "      <th></th>\n",
       "      <th>t</th>\n",
       "      <th>obj</th>\n",
       "      <th>x</th>\n",
       "      <th>y</th>\n",
       "      <th>z</th>\n",
       "      <th>vx</th>\n",
       "      <th>vy</th>\n",
       "      <th>vz</th>\n",
       "    </tr>\n",
       "  </thead>\n",
       "  <tbody>\n",
       "    <tr>\n",
       "      <th>0</th>\n",
       "      <td>0</td>\n",
       "      <td>1</td>\n",
       "      <td>-1</td>\n",
       "      <td>-1</td>\n",
       "      <td>-1</td>\n",
       "      <td>-1</td>\n",
       "      <td>-1</td>\n",
       "      <td>-1</td>\n",
       "    </tr>\n",
       "    <tr>\n",
       "      <th>1</th>\n",
       "      <td>0</td>\n",
       "      <td>2</td>\n",
       "      <td>-2</td>\n",
       "      <td>0</td>\n",
       "      <td>0</td>\n",
       "      <td>0</td>\n",
       "      <td>2</td>\n",
       "      <td>3</td>\n",
       "    </tr>\n",
       "    <tr>\n",
       "      <th>2</th>\n",
       "      <td>1</td>\n",
       "      <td>1</td>\n",
       "      <td>-1</td>\n",
       "      <td>1</td>\n",
       "      <td>1</td>\n",
       "      <td>1</td>\n",
       "      <td>1</td>\n",
       "      <td>3</td>\n",
       "    </tr>\n",
       "    <tr>\n",
       "      <th>3</th>\n",
       "      <td>1</td>\n",
       "      <td>2</td>\n",
       "      <td>-2</td>\n",
       "      <td>2</td>\n",
       "      <td>2</td>\n",
       "      <td>2</td>\n",
       "      <td>2</td>\n",
       "      <td>3</td>\n",
       "    </tr>\n",
       "    <tr>\n",
       "      <th>4</th>\n",
       "      <td>2</td>\n",
       "      <td>1</td>\n",
       "      <td>-1</td>\n",
       "      <td>3</td>\n",
       "      <td>3</td>\n",
       "      <td>3</td>\n",
       "      <td>1</td>\n",
       "      <td>3</td>\n",
       "    </tr>\n",
       "    <tr>\n",
       "      <th>5</th>\n",
       "      <td>2</td>\n",
       "      <td>2</td>\n",
       "      <td>-2</td>\n",
       "      <td>4</td>\n",
       "      <td>4</td>\n",
       "      <td>4</td>\n",
       "      <td>2</td>\n",
       "      <td>3</td>\n",
       "    </tr>\n",
       "    <tr>\n",
       "      <th>6</th>\n",
       "      <td>3</td>\n",
       "      <td>1</td>\n",
       "      <td>-1</td>\n",
       "      <td>5</td>\n",
       "      <td>5</td>\n",
       "      <td>5</td>\n",
       "      <td>1</td>\n",
       "      <td>3</td>\n",
       "    </tr>\n",
       "    <tr>\n",
       "      <th>7</th>\n",
       "      <td>3</td>\n",
       "      <td>2</td>\n",
       "      <td>-3</td>\n",
       "      <td>6</td>\n",
       "      <td>6</td>\n",
       "      <td>6</td>\n",
       "      <td>2</td>\n",
       "      <td>3</td>\n",
       "    </tr>\n",
       "    <tr>\n",
       "      <th>8</th>\n",
       "      <td>4</td>\n",
       "      <td>1</td>\n",
       "      <td>-4</td>\n",
       "      <td>-1</td>\n",
       "      <td>-1</td>\n",
       "      <td>-1</td>\n",
       "      <td>-1</td>\n",
       "      <td>-1</td>\n",
       "    </tr>\n",
       "    <tr>\n",
       "      <th>9</th>\n",
       "      <td>4</td>\n",
       "      <td>2</td>\n",
       "      <td>-3</td>\n",
       "      <td>0</td>\n",
       "      <td>0</td>\n",
       "      <td>0</td>\n",
       "      <td>2</td>\n",
       "      <td>3</td>\n",
       "    </tr>\n",
       "    <tr>\n",
       "      <th>10</th>\n",
       "      <td>5</td>\n",
       "      <td>1</td>\n",
       "      <td>-4</td>\n",
       "      <td>1</td>\n",
       "      <td>1</td>\n",
       "      <td>1</td>\n",
       "      <td>1</td>\n",
       "      <td>3</td>\n",
       "    </tr>\n",
       "    <tr>\n",
       "      <th>11</th>\n",
       "      <td>5</td>\n",
       "      <td>2</td>\n",
       "      <td>-2</td>\n",
       "      <td>2</td>\n",
       "      <td>2</td>\n",
       "      <td>2</td>\n",
       "      <td>2</td>\n",
       "      <td>3</td>\n",
       "    </tr>\n",
       "    <tr>\n",
       "      <th>12</th>\n",
       "      <td>6</td>\n",
       "      <td>1</td>\n",
       "      <td>-1</td>\n",
       "      <td>3</td>\n",
       "      <td>3</td>\n",
       "      <td>3</td>\n",
       "      <td>1</td>\n",
       "      <td>3</td>\n",
       "    </tr>\n",
       "    <tr>\n",
       "      <th>13</th>\n",
       "      <td>6</td>\n",
       "      <td>2</td>\n",
       "      <td>-2</td>\n",
       "      <td>4</td>\n",
       "      <td>4</td>\n",
       "      <td>4</td>\n",
       "      <td>2</td>\n",
       "      <td>3</td>\n",
       "    </tr>\n",
       "    <tr>\n",
       "      <th>14</th>\n",
       "      <td>7</td>\n",
       "      <td>1</td>\n",
       "      <td>1</td>\n",
       "      <td>5</td>\n",
       "      <td>5</td>\n",
       "      <td>5</td>\n",
       "      <td>1</td>\n",
       "      <td>3</td>\n",
       "    </tr>\n",
       "    <tr>\n",
       "      <th>15</th>\n",
       "      <td>7</td>\n",
       "      <td>2</td>\n",
       "      <td>2</td>\n",
       "      <td>6</td>\n",
       "      <td>6</td>\n",
       "      <td>6</td>\n",
       "      <td>2</td>\n",
       "      <td>3</td>\n",
       "    </tr>\n",
       "  </tbody>\n",
       "</table>\n",
       "</div>"
      ],
      "text/plain": [
       "    t  obj  x  y  z  vx  vy  vz\n",
       "0   0    1 -1 -1 -1  -1  -1  -1\n",
       "1   0    2 -2  0  0   0   2   3\n",
       "2   1    1 -1  1  1   1   1   3\n",
       "3   1    2 -2  2  2   2   2   3\n",
       "4   2    1 -1  3  3   3   1   3\n",
       "5   2    2 -2  4  4   4   2   3\n",
       "6   3    1 -1  5  5   5   1   3\n",
       "7   3    2 -3  6  6   6   2   3\n",
       "8   4    1 -4 -1 -1  -1  -1  -1\n",
       "9   4    2 -3  0  0   0   2   3\n",
       "10  5    1 -4  1  1   1   1   3\n",
       "11  5    2 -2  2  2   2   2   3\n",
       "12  6    1 -1  3  3   3   1   3\n",
       "13  6    2 -2  4  4   4   2   3\n",
       "14  7    1  1  5  5   5   1   3\n",
       "15  7    2  2  6  6   6   2   3"
      ]
     },
     "execution_count": 7,
     "metadata": {},
     "output_type": "execute_result"
    }
   ],
   "source": [
    "my_data.head(20)"
   ]
  },
  {
   "cell_type": "code",
   "execution_count": 8,
   "id": "8031c77c",
   "metadata": {},
   "outputs": [
    {
     "data": {
      "text/plain": [
       "(16, 8)"
      ]
     },
     "execution_count": 8,
     "metadata": {},
     "output_type": "execute_result"
    }
   ],
   "source": [
    "my_data.shape"
   ]
  },
  {
   "cell_type": "code",
   "execution_count": 9,
   "id": "e3af0968",
   "metadata": {},
   "outputs": [],
   "source": [
    "from torch.utils.data import Dataset\n",
    "import os\n",
    "import numpy as np\n",
    "import cv2"
   ]
  },
  {
   "cell_type": "code",
   "execution_count": 10,
   "id": "abb3c0a1",
   "metadata": {},
   "outputs": [],
   "source": [
    "class MyCustomDataset(Dataset):\n",
    "    def __init__(self, csv_file, root_dir: str, transform=None,maxnobjects=2,deep=0,\n",
    "                nfeatures=6, future_prediction=1):\n",
    "        self.data = pd.read_csv(csv_file)\n",
    "        self.root_dir = root_dir\n",
    "        self.transform = transform\n",
    "        self.maxnobjects = maxnobjects\n",
    "        self.deep = deep\n",
    "        self.nfeatures = nfeatures\n",
    "        self.obj_id = list()\n",
    "        self.future_prediction = future_prediction\n",
    "\n",
    "    def __len__(self):\n",
    "        return self.data['t'].max()-self.data['t'].min() -self.deep+1 -self.future_predicition\n",
    "\n",
    "    def __getitem__(self, idx):\n",
    "        if torch.is_tensor(idx):\n",
    "            idx = idx.tolist()\n",
    "            \n",
    "        #FOr image        \n",
    "        data = np.zeros((self.maxnobjects,self.nfeatures, self.deep+1))\n",
    "        #images = np.zeros((self.maxnobjects,1, self.deep))\n",
    "        \n",
    "\n",
    "        for t in range(self.deep+1):\n",
    "            query_data= self.data[self.data['t']== idx+t].iloc[:,1:]\n",
    "            objects_ids = np.array(query_data.iloc[:,0])\n",
    "            for oi,o_id in enumerate(objects_ids):\n",
    "                #print(o_id, \"in \", self.obj_id, \"time\", t)\n",
    "                ind = self.obj_id.index(o_id) if o_id in self.obj_id else -1\n",
    "                if ind != -1:\n",
    "                    #print(\"updating \", o_id, \" index \", ind)\n",
    "                    data[ind, :,t] = query_data.iloc[oi,1:]\n",
    "                else:\n",
    "                    #print (\"current ids\", self.obj_id, \" adding \", o_id)\n",
    "                    self.obj_id.append(o_id)\n",
    "                    new_id = len(self.obj_id)-1\n",
    "                    #print (new_id, \" -> NEW ID\")\n",
    "                    data[new_id, :,t] = query_data.iloc[oi,1:]\n",
    "            #print(objects_ids)#, query_data.iloc[:,2:-1])\n",
    "            #nobjects, _ = query_data.shape\n",
    "            #data[:nobjects,:,t] = query_data.iloc[:,1:]\n",
    "            #images.append(query_data.iloc[:,-1])\n",
    "            #images[:nobjects,0,t] = query_data.iloc[:,-1]\n",
    "        #print(data, data.shape)\n",
    "\n",
    "        image_path = os.path.join(self.root_dir, \n",
    "                                    str(self.future_prediction+1+self.deep)+\".jpg\")\n",
    "        image = cv2.imread(image_path)\n",
    "        #data = np.array(self.data.iloc[idx, 0:-1]).reshape(-1,8)\n",
    "        sample = {'image': image, 'data': data}\n",
    "        \n",
    "        if self.transform:\n",
    "            sample = self.transform(sample)\n",
    "        return sample\n",
    "        "
   ]
  },
  {
   "cell_type": "code",
   "execution_count": 11,
   "id": "af721896",
   "metadata": {},
   "outputs": [],
   "source": [
    "class MyCustomDataset2(Dataset):\n",
    "    def __init__(self, csv_file, root_dir: str, transform=None,maxnobjects=2,\n",
    "                nfeatures=6, future_prediction=1):\n",
    "        self.data = pd.read_csv(csv_file)\n",
    "        self.root_dir = root_dir\n",
    "        self.transform = transform\n",
    "        self.maxnobjects = maxnobjects\n",
    "        self.nfeatures = nfeatures\n",
    "        self.obj_id = list()\n",
    "        self.future_prediction = future_prediction\n",
    "\n",
    "    def __len__(self):\n",
    "        return self.data['t'].max()-self.data['t'].min()+1 -self.future_prediction\n",
    "\n",
    "    def __getitem__(self, idx):\n",
    "        if torch.is_tensor(idx):\n",
    "            idx = idx.tolist()\n",
    "            \n",
    "        #FOr image        \n",
    "        data = np.zeros((self.maxnobjects,self.nfeatures, 1))\n",
    "        query_data= self.data[self.data['t']== idx].iloc[:,1:]\n",
    "        objects_ids = np.array(query_data.iloc[:,0])\n",
    "        for oi,o_id in enumerate(objects_ids):\n",
    "            ind = self.obj_id.index(o_id) if o_id in self.obj_id else -1\n",
    "            if ind != -1:\n",
    "                data[ind, :] = np.array(query_data.iloc[oi,1:]).reshape(self.nfeatures,1)\n",
    "            else:\n",
    "                self.obj_id.append(o_id)\n",
    "                new_id = len(self.obj_id)-1\n",
    "                data[new_id, :,0] = query_data.iloc[oi,1:]\n",
    "\n",
    "        image_path = os.path.join(self.root_dir, str(idx+\n",
    "                            self.future_prediction)+\".jpg\")\n",
    "        image = cv2.imread(image_path)\n",
    "        #data = np.array(self.data.iloc[idx, 0:-1]).reshape(-1,8)\n",
    "        sample = {'image': image, 'data': data}\n",
    "        \n",
    "        if self.transform:\n",
    "            sample = self.transform(sample)\n",
    "        return sample"
   ]
  },
  {
   "cell_type": "code",
   "execution_count": 12,
   "id": "548bb618",
   "metadata": {},
   "outputs": [],
   "source": [
    "from torchvision import transforms, utils\n",
    "from skimage import transform "
   ]
  },
  {
   "cell_type": "code",
   "execution_count": 13,
   "id": "6d6a7dcc",
   "metadata": {},
   "outputs": [],
   "source": [
    "class Rescale(object):\n",
    "    \"\"\"Rescale the image in a sample to a given size.\n",
    "\n",
    "    Args:\n",
    "        output_size (tuple or int): Desired output size. If tuple, output is\n",
    "            matched to output_size. If int, smaller of image edges is matched\n",
    "            to output_size keeping aspect ratio the same.\n",
    "    \"\"\"\n",
    "\n",
    "    def __init__(self, output_size):\n",
    "        assert isinstance(output_size, (int, tuple))\n",
    "        self.output_size = output_size\n",
    "\n",
    "    def __call__(self, sample):\n",
    "        image, data = sample['image'], sample['data']\n",
    "\n",
    "        h, w = image.shape[:2]\n",
    "        if isinstance(self.output_size, int):\n",
    "            if h > w:\n",
    "                new_h, new_w = self.output_size * h / w, self.output_size\n",
    "            else:\n",
    "                new_h, new_w = self.output_size, self.output_size * w / h\n",
    "        else:\n",
    "            new_h, new_w = self.output_size\n",
    "\n",
    "        new_h, new_w = int(new_h), int(new_w)\n",
    "\n",
    "        img = transform.resize(image, (new_h, new_w))\n",
    "\n",
    "        # h and w are swapped for landmarks because for images,\n",
    "        # x and y axes are axis 1 and 0 respectively\n",
    "        #data = data * [new_w / w, new_h / h]\n",
    "\n",
    "        return {'image': img, 'data': data}\n",
    "\n",
    "class ToTensor(object):\n",
    "    \"\"\"Convert ndarrays in sample to Tensors.\"\"\"\n",
    "\n",
    "    def __call__(self, sample):\n",
    "        image, data = sample['image'], sample['data']\n",
    "\n",
    "        # swap color axis because\n",
    "        # numpy image: H x W x C\n",
    "        # torch image: C x H x W\n",
    "        image = image.transpose((2, 0, 1))\n",
    "        return {'image': torch.from_numpy(image),\n",
    "                'data': torch.from_numpy(data)}"
   ]
  },
  {
   "cell_type": "markdown",
   "id": "ea864ccf",
   "metadata": {},
   "source": [
    "#https://pytorch.org/tutorials/beginner/data_loading_tutorial.html"
   ]
  },
  {
   "cell_type": "code",
   "execution_count": 14,
   "id": "078d6228",
   "metadata": {},
   "outputs": [],
   "source": [
    "#FROM TUTORIAL\n",
    "mytransform=transforms.Compose([\n",
    "                                Rescale(256),\n",
    "                                ToTensor()\n",
    "                               ])"
   ]
  },
  {
   "cell_type": "code",
   "execution_count": 15,
   "id": "1b27e22e",
   "metadata": {},
   "outputs": [],
   "source": [
    "#FOr testing\n",
    "#shape maxobject, nfeatures, deep\n",
    "my_train_dataset = MyCustomDataset2(\"my_data/fake_data.csv\", \"my_data/images/train\", \n",
    "                                    transform=mytransform)"
   ]
  },
  {
   "cell_type": "code",
   "execution_count": 16,
   "id": "44198fc9",
   "metadata": {},
   "outputs": [],
   "source": [
    "my_test_dataset = MyCustomDataset2(\"my_data/fake_testdata.csv\", \"my_data/images/test\", \n",
    "                                   transform=mytransform)"
   ]
  },
  {
   "cell_type": "code",
   "execution_count": 17,
   "id": "045cc8bc",
   "metadata": {},
   "outputs": [
    {
     "data": {
      "text/plain": [
       "7"
      ]
     },
     "execution_count": 17,
     "metadata": {},
     "output_type": "execute_result"
    }
   ],
   "source": [
    "len(my_train_dataset)"
   ]
  },
  {
   "cell_type": "code",
   "execution_count": 18,
   "id": "014d6d4f",
   "metadata": {},
   "outputs": [
    {
     "name": "stdout",
     "output_type": "stream",
     "text": [
      "INLINE torch.Size([3, 256, 341])\n",
      "INLINE torch.Size([3, 256, 341])\n",
      "INLINE torch.Size([3, 256, 341])\n",
      "INLINE torch.Size([3, 256, 341])\n",
      "INLINE torch.Size([3, 256, 341])\n",
      "INLINE torch.Size([3, 256, 341])\n",
      "INLINE torch.Size([3, 256, 341])\n"
     ]
    }
   ],
   "source": [
    "for i in range(len(my_train_dataset)):\n",
    "    print(\"INLINE\", my_train_dataset[i]['image'].shape)"
   ]
  },
  {
   "cell_type": "code",
   "execution_count": 19,
   "id": "1a60e85b",
   "metadata": {},
   "outputs": [],
   "source": [
    "batch_size = 4\n",
    "\n",
    "trainloader = torch.utils.data.DataLoader(my_train_dataset, batch_size=batch_size,\n",
    "                                          shuffle=True, num_workers=2)\n",
    "testloader = torch.utils.data.DataLoader(my_test_dataset, batch_size=batch_size,\n",
    "                                         shuffle=False, num_workers=2)\n",
    "\n",
    "classes = ('plane', 'car', 'bird', 'cat',\n",
    "           'deer', 'dog', 'frog', 'horse', 'ship', 'truck')\n",
    "\n"
   ]
  },
  {
   "cell_type": "code",
   "execution_count": 20,
   "id": "f80a04b4",
   "metadata": {},
   "outputs": [
    {
     "data": {
      "text/plain": [
       "(2, 2)"
      ]
     },
     "execution_count": 20,
     "metadata": {},
     "output_type": "execute_result"
    }
   ],
   "source": [
    "len(trainloader), len(testloader)"
   ]
  },
  {
   "cell_type": "code",
   "execution_count": 21,
   "id": "f7ae9a13",
   "metadata": {},
   "outputs": [],
   "source": [
    "import matplotlib.pyplot as plt\n",
    "import numpy as np\n",
    "\n",
    "# functions to show an image\n",
    "\n",
    "\n",
    "def imshow(img):\n",
    "    img = img / 2 + 0.5     # unnormalize\n",
    "    npimg = img.numpy()\n",
    "    plt.imshow(np.transpose(npimg, (1, 2, 0)))\n",
    "    plt.show()"
   ]
  },
  {
   "cell_type": "code",
   "execution_count": 22,
   "id": "ffcc10c9",
   "metadata": {},
   "outputs": [],
   "source": [
    "def imshow2(images):\n",
    "    grid = utils.make_grid(images)\n",
    "    plt.imshow(grid.numpy().transpose((1,2,0)))"
   ]
  },
  {
   "cell_type": "code",
   "execution_count": 23,
   "id": "53e8552e",
   "metadata": {},
   "outputs": [
    {
     "data": {
      "image/png": "[encoded data removed]",
      "text/plain": [
       "<Figure size 432x288 with 1 Axes>"
      ]
     },
     "metadata": {
      "needs_background": "light"
     },
     "output_type": "display_data"
    }
   ],
   "source": [
    "# get some random training images\n",
    "dataiter = iter(trainloader)\n",
    "newdata = dataiter.next()\n",
    "images, data, = newdata[\"image\"], newdata[\"data\"]\n",
    "# show images\n",
    "#imshow(images[0])\n",
    "imshow2(images)\n",
    "# print labels\n",
    "#print(' '.join('%5s' % classes[labels[j]] for j in range(batch_size)))\n"
   ]
  },
  {
   "cell_type": "code",
   "execution_count": 24,
   "id": "277dee19",
   "metadata": {},
   "outputs": [],
   "source": [
    "dataiter = iter(trainloader)\n",
    "newdata = dataiter.next()\n",
    "test_image, test_data = newdata[\"image\"].to(device, dtype=torch.float), newdata[\"data\"].to(device, dtype=torch.float)"
   ]
  },
  {
   "cell_type": "code",
   "execution_count": 68,
   "id": "b7b6cb6b",
   "metadata": {},
   "outputs": [],
   "source": [
    "import torch.nn as nn\n",
    "import torch.nn.functional as F\n",
    "\n",
    "\n",
    "class Net(nn.Module):\n",
    "    def __init__(self):\n",
    "        super().__init__()\n",
    "        self.conv1 = nn.Conv1d(3,10,kernel_size=3)\n",
    "        self.uconv1 = nn.ConvTranspose2d(2,10,kernel_size=(3,3))\n",
    "        self.uconv2 = nn.ConvTranspose2d(10,40,kernel_size=(5,5))\n",
    "        self.uconv3 = nn.ConvTranspose2d(40,3, kernel_size=(10,10))\n",
    "        #self.uconv4 = nn.ConvTranspose2d(60,256, kernel_size=(10,10), groups=1)\n",
    "        self.up1 = nn.Upsample(size=(256,256))#,scale_factor = 10)\n",
    "\n",
    "        #(2,10,kernel_size=3)\n",
    "\n",
    "        self.conv1 = nn.Conv2d(3, 6, 5)\n",
    "        self.pool = nn.MaxPool2d(2, 2)\n",
    "        self.conv2 = nn.Conv2d(6, 16, 5)\n",
    "        self.fc1 = nn.Linear(12, 120)\n",
    "        self.fc2 = nn.Linear(120, 84)\n",
    "        self.fc3 = nn.Linear(84, 1)\n",
    "    \n",
    "    def test(self,x):\n",
    "        print (x.shape)\n",
    "        x1 =  self.uconv3(self.uconv2(self.uconv1(x)))\n",
    "        print (x1.shape)\n",
    "        print (self.up1(x1).shape)\n",
    "\n",
    "    def forward(self, input1):\n",
    "        x = F.relu(self.uconv1(input1))\n",
    "        x = F.relu(self.uconv2(x))\n",
    "        x = F.relu(self.uconv3(x))\n",
    "        output1 = F.relu(self.up1(x))\n",
    "        print (output1.shape)\n",
    "\n",
    "        #x = self.pool(F.relu(self.conv1(x)))\n",
    "        #x = self.pool(F.relu(self.conv2(x)))\n",
    "        print(input1.shape)\n",
    "        x2 = torch.flatten(input1, 1) # flatten all dimensions except batch\n",
    "        #print(x.shape)\n",
    "        print(x2.shape)\n",
    "        x2 = F.self.fc1(x2)\n",
    "\n",
    "        x2 = F.relu(self.fc2(x2))\n",
    "        x2 = F.sigmoid(self.fc3(x2))\n",
    "        return [output1, x2]\n"
   ]
  },
  {
   "cell_type": "code",
   "execution_count": 69,
   "id": "7b49bb4d",
   "metadata": {},
   "outputs": [
    {
     "name": "stdout",
     "output_type": "stream",
     "text": [
      "Net(\n",
      "  (conv1): Conv2d(3, 6, kernel_size=(5, 5), stride=(1, 1))\n",
      "  (uconv1): ConvTranspose2d(2, 10, kernel_size=(3, 3), stride=(1, 1))\n",
      "  (uconv2): ConvTranspose2d(10, 40, kernel_size=(5, 5), stride=(1, 1))\n",
      "  (uconv3): ConvTranspose2d(40, 3, kernel_size=(10, 10), stride=(1, 1))\n",
      "  (up1): Upsample(size=(256, 256), mode=nearest)\n",
      "  (pool): MaxPool2d(kernel_size=2, stride=2, padding=0, dilation=1, ceil_mode=False)\n",
      "  (conv2): Conv2d(6, 16, kernel_size=(5, 5), stride=(1, 1))\n",
      "  (fc1): Linear(in_features=12, out_features=120, bias=True)\n",
      "  (fc2): Linear(in_features=120, out_features=84, bias=True)\n",
      "  (fc3): Linear(in_features=84, out_features=1, bias=True)\n",
      ")\n"
     ]
    }
   ],
   "source": [
    "net = Net().to(device)\n",
    "print(net)"
   ]
  },
  {
   "cell_type": "code",
   "execution_count": 71,
   "id": "623e7a3e",
   "metadata": {},
   "outputs": [
    {
     "data": {
      "text/plain": [
       "tensor([[[[-1.],\n",
       "          [ 3.],\n",
       "          [ 3.],\n",
       "          [ 3.],\n",
       "          [ 1.],\n",
       "          [ 3.]],\n",
       "\n",
       "         [[-2.],\n",
       "          [ 4.],\n",
       "          [ 4.],\n",
       "          [ 4.],\n",
       "          [ 2.],\n",
       "          [ 3.]]],\n",
       "\n",
       "\n",
       "        [[[-4.],\n",
       "          [ 1.],\n",
       "          [ 1.],\n",
       "          [ 1.],\n",
       "          [ 1.],\n",
       "          [ 3.]],\n",
       "\n",
       "         [[-2.],\n",
       "          [ 2.],\n",
       "          [ 2.],\n",
       "          [ 2.],\n",
       "          [ 2.],\n",
       "          [ 3.]]],\n",
       "\n",
       "\n",
       "        [[[-1.],\n",
       "          [ 3.],\n",
       "          [ 3.],\n",
       "          [ 3.],\n",
       "          [ 1.],\n",
       "          [ 3.]],\n",
       "\n",
       "         [[-2.],\n",
       "          [ 4.],\n",
       "          [ 4.],\n",
       "          [ 4.],\n",
       "          [ 2.],\n",
       "          [ 3.]]],\n",
       "\n",
       "\n",
       "        [[[-1.],\n",
       "          [-1.],\n",
       "          [-1.],\n",
       "          [-1.],\n",
       "          [-1.],\n",
       "          [-1.]],\n",
       "\n",
       "         [[-2.],\n",
       "          [ 0.],\n",
       "          [ 0.],\n",
       "          [ 0.],\n",
       "          [ 2.],\n",
       "          [ 3.]]]], device='cuda:0')"
      ]
     },
     "execution_count": 71,
     "metadata": {},
     "output_type": "execute_result"
    }
   ],
   "source": [
    "test_data"
   ]
  },
  {
   "cell_type": "code",
   "execution_count": 70,
   "id": "24a5a520",
   "metadata": {},
   "outputs": [
    {
     "name": "stdout",
     "output_type": "stream",
     "text": [
      "torch.Size([4, 3, 256, 256])\n",
      "torch.Size([4, 2, 6, 1])\n",
      "torch.Size([4, 12])\n",
      " ** On entry to SGEMM  parameter number 10 had an illegal value\n",
      " ** On entry to SGEMM  parameter number 10 had an illegal value\n",
      " ** On entry to SGEMM  parameter number 10 had an illegal value\n",
      " ** On entry to SGEMM  parameter number 10 had an illegal value\n",
      " ** On entry to SGEMM  parameter number 10 had an illegal value\n"
     ]
    },
    {
     "name": "stderr",
     "output_type": "stream",
     "text": [
      "/home/jose/anaconda3/envs/test/lib/python3.9/site-packages/torch/nn/functional.py:1805: UserWarning: nn.functional.sigmoid is deprecated. Use torch.sigmoid instead.\n",
      "  warnings.warn(\"nn.functional.sigmoid is deprecated. Use torch.sigmoid instead.\")\n"
     ]
    },
    {
     "data": {
      "text/plain": [
       "[tensor([[[[0.0071, 0.0071, 0.0071,  ..., 0.0116, 0.0116, 0.0116],\n",
       "           [0.0071, 0.0071, 0.0071,  ..., 0.0116, 0.0116, 0.0116],\n",
       "           [0.0071, 0.0071, 0.0071,  ..., 0.0116, 0.0116, 0.0116],\n",
       "           ...,\n",
       "           [0.0016, 0.0016, 0.0016,  ..., 0.0063, 0.0063, 0.0063],\n",
       "           [0.0016, 0.0016, 0.0016,  ..., 0.0063, 0.0063, 0.0063],\n",
       "           [0.0016, 0.0016, 0.0016,  ..., 0.0063, 0.0063, 0.0063]],\n",
       " \n",
       "          [[0.0228, 0.0228, 0.0228,  ..., 0.0212, 0.0212, 0.0212],\n",
       "           [0.0228, 0.0228, 0.0228,  ..., 0.0212, 0.0212, 0.0212],\n",
       "           [0.0228, 0.0228, 0.0228,  ..., 0.0212, 0.0212, 0.0212],\n",
       "           ...,\n",
       "           [0.0175, 0.0175, 0.0175,  ..., 0.0183, 0.0183, 0.0183],\n",
       "           [0.0175, 0.0175, 0.0175,  ..., 0.0183, 0.0183, 0.0183],\n",
       "           [0.0175, 0.0175, 0.0175,  ..., 0.0183, 0.0183, 0.0183]],\n",
       " \n",
       "          [[0.0000, 0.0000, 0.0000,  ..., 0.0000, 0.0000, 0.0000],\n",
       "           [0.0000, 0.0000, 0.0000,  ..., 0.0000, 0.0000, 0.0000],\n",
       "           [0.0000, 0.0000, 0.0000,  ..., 0.0000, 0.0000, 0.0000],\n",
       "           ...,\n",
       "           [0.0000, 0.0000, 0.0000,  ..., 0.0000, 0.0000, 0.0000],\n",
       "           [0.0000, 0.0000, 0.0000,  ..., 0.0000, 0.0000, 0.0000],\n",
       "           [0.0000, 0.0000, 0.0000,  ..., 0.0000, 0.0000, 0.0000]]],\n",
       " \n",
       " \n",
       "         [[[0.0063, 0.0063, 0.0063,  ..., 0.0101, 0.0101, 0.0101],\n",
       "           [0.0063, 0.0063, 0.0063,  ..., 0.0101, 0.0101, 0.0101],\n",
       "           [0.0063, 0.0063, 0.0063,  ..., 0.0101, 0.0101, 0.0101],\n",
       "           ...,\n",
       "           [0.0016, 0.0016, 0.0016,  ..., 0.0063, 0.0063, 0.0063],\n",
       "           [0.0016, 0.0016, 0.0016,  ..., 0.0063, 0.0063, 0.0063],\n",
       "           [0.0016, 0.0016, 0.0016,  ..., 0.0063, 0.0063, 0.0063]],\n",
       " \n",
       "          [[0.0232, 0.0232, 0.0232,  ..., 0.0212, 0.0212, 0.0212],\n",
       "           [0.0232, 0.0232, 0.0232,  ..., 0.0212, 0.0212, 0.0212],\n",
       "           [0.0232, 0.0232, 0.0232,  ..., 0.0212, 0.0212, 0.0212],\n",
       "           ...,\n",
       "           [0.0175, 0.0175, 0.0175,  ..., 0.0183, 0.0183, 0.0183],\n",
       "           [0.0175, 0.0175, 0.0175,  ..., 0.0183, 0.0183, 0.0183],\n",
       "           [0.0175, 0.0175, 0.0175,  ..., 0.0183, 0.0183, 0.0183]],\n",
       " \n",
       "          [[0.0000, 0.0000, 0.0000,  ..., 0.0000, 0.0000, 0.0000],\n",
       "           [0.0000, 0.0000, 0.0000,  ..., 0.0000, 0.0000, 0.0000],\n",
       "           [0.0000, 0.0000, 0.0000,  ..., 0.0000, 0.0000, 0.0000],\n",
       "           ...,\n",
       "           [0.0000, 0.0000, 0.0000,  ..., 0.0000, 0.0000, 0.0000],\n",
       "           [0.0000, 0.0000, 0.0000,  ..., 0.0000, 0.0000, 0.0000],\n",
       "           [0.0000, 0.0000, 0.0000,  ..., 0.0000, 0.0000, 0.0000]]],\n",
       " \n",
       " \n",
       "         [[[0.0071, 0.0071, 0.0071,  ..., 0.0116, 0.0116, 0.0116],\n",
       "           [0.0071, 0.0071, 0.0071,  ..., 0.0116, 0.0116, 0.0116],\n",
       "           [0.0071, 0.0071, 0.0071,  ..., 0.0116, 0.0116, 0.0116],\n",
       "           ...,\n",
       "           [0.0016, 0.0016, 0.0016,  ..., 0.0063, 0.0063, 0.0063],\n",
       "           [0.0016, 0.0016, 0.0016,  ..., 0.0063, 0.0063, 0.0063],\n",
       "           [0.0016, 0.0016, 0.0016,  ..., 0.0063, 0.0063, 0.0063]],\n",
       " \n",
       "          [[0.0228, 0.0228, 0.0228,  ..., 0.0212, 0.0212, 0.0212],\n",
       "           [0.0228, 0.0228, 0.0228,  ..., 0.0212, 0.0212, 0.0212],\n",
       "           [0.0228, 0.0228, 0.0228,  ..., 0.0212, 0.0212, 0.0212],\n",
       "           ...,\n",
       "           [0.0175, 0.0175, 0.0175,  ..., 0.0183, 0.0183, 0.0183],\n",
       "           [0.0175, 0.0175, 0.0175,  ..., 0.0183, 0.0183, 0.0183],\n",
       "           [0.0175, 0.0175, 0.0175,  ..., 0.0183, 0.0183, 0.0183]],\n",
       " \n",
       "          [[0.0000, 0.0000, 0.0000,  ..., 0.0000, 0.0000, 0.0000],\n",
       "           [0.0000, 0.0000, 0.0000,  ..., 0.0000, 0.0000, 0.0000],\n",
       "           [0.0000, 0.0000, 0.0000,  ..., 0.0000, 0.0000, 0.0000],\n",
       "           ...,\n",
       "           [0.0000, 0.0000, 0.0000,  ..., 0.0000, 0.0000, 0.0000],\n",
       "           [0.0000, 0.0000, 0.0000,  ..., 0.0000, 0.0000, 0.0000],\n",
       "           [0.0000, 0.0000, 0.0000,  ..., 0.0000, 0.0000, 0.0000]]],\n",
       " \n",
       " \n",
       "         [[[0.0071, 0.0071, 0.0071,  ..., 0.0116, 0.0116, 0.0116],\n",
       "           [0.0071, 0.0071, 0.0071,  ..., 0.0116, 0.0116, 0.0116],\n",
       "           [0.0071, 0.0071, 0.0071,  ..., 0.0116, 0.0116, 0.0116],\n",
       "           ...,\n",
       "           [0.0022, 0.0022, 0.0022,  ..., 0.0074, 0.0074, 0.0074],\n",
       "           [0.0022, 0.0022, 0.0022,  ..., 0.0074, 0.0074, 0.0074],\n",
       "           [0.0022, 0.0022, 0.0022,  ..., 0.0074, 0.0074, 0.0074]],\n",
       " \n",
       "          [[0.0228, 0.0228, 0.0228,  ..., 0.0212, 0.0212, 0.0212],\n",
       "           [0.0228, 0.0228, 0.0228,  ..., 0.0212, 0.0212, 0.0212],\n",
       "           [0.0228, 0.0228, 0.0228,  ..., 0.0212, 0.0212, 0.0212],\n",
       "           ...,\n",
       "           [0.0184, 0.0184, 0.0184,  ..., 0.0174, 0.0174, 0.0174],\n",
       "           [0.0184, 0.0184, 0.0184,  ..., 0.0174, 0.0174, 0.0174],\n",
       "           [0.0184, 0.0184, 0.0184,  ..., 0.0174, 0.0174, 0.0174]],\n",
       " \n",
       "          [[0.0000, 0.0000, 0.0000,  ..., 0.0000, 0.0000, 0.0000],\n",
       "           [0.0000, 0.0000, 0.0000,  ..., 0.0000, 0.0000, 0.0000],\n",
       "           [0.0000, 0.0000, 0.0000,  ..., 0.0000, 0.0000, 0.0000],\n",
       "           ...,\n",
       "           [0.0000, 0.0000, 0.0000,  ..., 0.0000, 0.0000, 0.0000],\n",
       "           [0.0000, 0.0000, 0.0000,  ..., 0.0000, 0.0000, 0.0000],\n",
       "           [0.0000, 0.0000, 0.0000,  ..., 0.0000, 0.0000, 0.0000]]]],\n",
       "        device='cuda:0', grad_fn=<ReluBackward0>),\n",
       " tensor([[0.5123],\n",
       "         [0.4911],\n",
       "         [0.5123],\n",
       "         [0.4686]], device='cuda:0', grad_fn=<SigmoidBackward>)]"
      ]
     },
     "execution_count": 70,
     "metadata": {},
     "output_type": "execute_result"
    }
   ],
   "source": [
    "net(test_data)"
   ]
  },
  {
   "cell_type": "code",
   "execution_count": null,
   "id": "58bc8f12",
   "metadata": {},
   "outputs": [],
   "source": [
    "import torch.optim as optim\n",
    "\n",
    "criterion = nn.CrossEntropyLoss()\n",
    "optimizer = optim.SGD(net.parameters(), lr=0.001, momentum=0.9)"
   ]
  },
  {
   "cell_type": "code",
   "execution_count": null,
   "id": "2669d5bd",
   "metadata": {},
   "outputs": [],
   "source": [
    "def validate(model,val_data):\n",
    "    net.eval()\n",
    "    val_loss = 0.0\n",
    "    with torch.no_grad():\n",
    "        for i, data in enumerate(val_data, 0):\n",
    "            # get the inputs; data is a st of [inputs, labels]\n",
    "            inputs, labels = data[0].to(device), data[1].to(device)\n",
    "            # zero the parameter gradients\n",
    "            #optimizer.zero_grad()\n",
    "\n",
    "            # forward + backward + optimize\n",
    "            outputs = net(inputs)\n",
    "            loss = criterion(outputs, labels)\n",
    "            val_loss +=loss.item()\n",
    "    return val_loss/len(val_data)\n",
    "        "
   ]
  },
  {
   "cell_type": "code",
   "execution_count": null,
   "id": "2c761739",
   "metadata": {},
   "outputs": [],
   "source": [
    "net.train()\n",
    "for epoch in range(20):  # loop over the dataset multiple times\n",
    "    running_loss = 0.0\n",
    "    epoch_loss = 0.0\n",
    "    for i, data in enumerate(trainloader, 0):\n",
    "        # get the inputs; data is a st of [inputs, labels]\n",
    "        inputs, labels = data[0].to(device), data[1].to(device)\n",
    "\n",
    "        # zero the parameter gradients\n",
    "        optimizer.zero_grad()\n",
    "\n",
    "        # forward + backward + optimize\n",
    "        outputs = net(inputs)\n",
    "        loss = criterion(outputs, labels)\n",
    "        loss.backward()\n",
    "        optimizer.step()\n",
    "\n",
    "        # print statistics\n",
    "        running_loss += loss.item()\n",
    "        epoch_loss += loss.item()\n",
    "\n",
    "        if i % 2000 == 1999:    # print every 2000 mini-batches\n",
    "            print('[%d, %5d] loss: %.3f'  %\n",
    "                  (epoch + 1, i + 1, running_loss / 2000))\n",
    "            running_loss = 0.0\n",
    "\n",
    "    val_loss = validate(net, testloader)\n",
    "    print('[%d, %5d] epoch loss: %.3f validation loss: %.3f'  %\n",
    "        (epoch + 1, i + 1, epoch_loss / len(trainloader), val_loss))\n",
    "    epoch_loss = 0.0\n",
    "\n",
    "print('Finished Training')"
   ]
  },
  {
   "cell_type": "code",
   "execution_count": null,
   "id": "a9f5d936",
   "metadata": {},
   "outputs": [],
   "source": [
    "PATH = './cifar_net.pth'\n",
    "torch.save(net.state_dict(), PATH)"
   ]
  },
  {
   "cell_type": "code",
   "execution_count": null,
   "id": "91d5e18f",
   "metadata": {},
   "outputs": [],
   "source": [
    "dataiter = iter(testloader)\n",
    "images, labels = dataiter.next()"
   ]
  },
  {
   "cell_type": "code",
   "execution_count": null,
   "id": "253d1d87",
   "metadata": {},
   "outputs": [],
   "source": [
    "# print images\n",
    "imshow(torchvision.utils.make_grid(images))\n",
    "print('GroundTruth: ', ' '.join('%5s' % classes[labels[j]] for j in range(4)))\n"
   ]
  },
  {
   "cell_type": "code",
   "execution_count": null,
   "id": "9c8b5dc5",
   "metadata": {},
   "outputs": [],
   "source": [
    "net = Net()\n",
    "net.load_state_dict(torch.load(PATH))\n",
    "\n",
    "\n",
    "_, predicted = torch.max(outputs, 1)\n",
    "\n",
    "print('Predicted: ', ' '.join('%5s' % classes[predicted[j]]\n",
    "                              for j in range(4)))"
   ]
  },
  {
   "cell_type": "code",
   "execution_count": null,
   "id": "7ddd17e5",
   "metadata": {},
   "outputs": [],
   "source": [
    "correct = 0\n",
    "total = 0\n",
    "# since we're not training, we don't need to calculate the gradients for our outputs\n",
    "with torch.no_grad():\n",
    "    for data in testloader:\n",
    "        images, labels = data\n",
    "        # calculate outputs by running images through the network\n",
    "        outputs = net(images)\n",
    "        # the class with the highest energy is what we choose as prediction\n",
    "        _, predicted = torch.max(outputs.data, 1)\n",
    "        total += labels.size(0)\n",
    "        correct += (predicted == labels).sum().item()\n",
    "\n",
    "print('Accuracy of the network on the 10000 test images: %d %%' % (\n",
    "    100 * correct / total))\n"
   ]
  },
  {
   "cell_type": "code",
   "execution_count": null,
   "id": "d55e9a22",
   "metadata": {},
   "outputs": [],
   "source": [
    "# prepare to count predictions for each class\n",
    "correct_pred = {classname: 0 for classname in classes}\n",
    "total_pred = {classname: 0 for classname in classes}"
   ]
  },
  {
   "cell_type": "code",
   "execution_count": null,
   "id": "de7b9ed3",
   "metadata": {},
   "outputs": [],
   "source": [
    "# again no gradients needed\n",
    "with torch.no_grad():\n",
    "    for data in testloader:\n",
    "        images, labels = data\n",
    "        outputs = net(images)\n",
    "        _, predictions = torch.max(outputs, 1)\n",
    "        # collect the correct predictions for each class\n",
    "        for label, prediction in zip(labels, predictions):\n",
    "            if label == prediction:\n",
    "                correct_pred[classes[label]] += 1\n",
    "            total_pred[classes[label]] += 1"
   ]
  },
  {
   "cell_type": "code",
   "execution_count": null,
   "id": "817479e5",
   "metadata": {},
   "outputs": [],
   "source": [
    "# print accuracy for each class\n",
    "for classname, correct_count in correct_pred.items():\n",
    "    accuracy = 100 * float(correct_count) / total_pred[classname]\n",
    "    print(\"Accuracy for class {:5s} is: {:.1f} %\".format(classname,\n",
    "                                                   accuracy))"
   ]
  }
 ],
 "metadata": {
  "kernelspec": {
   "display_name": "Python 3 (ipykernel)",
   "language": "python",
   "name": "python3"
  },
  "language_info": {
   "codemirror_mode": {
    "name": "ipython",
    "version": 3
   },
   "file_extension": ".py",
   "mimetype": "text/x-python",
   "name": "python",
   "nbconvert_exporter": "python",
   "pygments_lexer": "ipython3",
   "version": "3.9.6"
  }
 },
 "nbformat": 4,
 "nbformat_minor": 5
}
